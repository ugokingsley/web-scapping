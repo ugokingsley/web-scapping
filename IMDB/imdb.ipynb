{
 "cells": [
  {
   "cell_type": "code",
   "execution_count": 2,
   "metadata": {},
   "outputs": [
    {
     "name": "stdout",
     "output_type": "stream",
     "text": [
      "\n",
      "\n",
      "\n",
      "<!DOCTYPE html>\n",
      "<html\n",
      "    xmlns:og=\"http://ogp.me/ns#\"\n",
      "    xmlns:fb=\"http://www.facebook.com/2008/fbml\">\n",
      "    <head>\n",
      "         \n",
      "        <meta charset=\"utf-8\">\n",
      "        <meta http-equiv=\"X-UA-Compatible\" content=\"IE=edge\">\n",
      "\n",
      "    <meta name=\"apple-itunes-app\" content=\"app-id=342792525, app-argument=imdb:///?src=mdot\">\n",
      "\n",
      "\n",
      "\n",
      "        <script type=\"text/javascript\">var IMDbTimer={starttime: new Date().getTime(),pt:'java'};</script>\n",
      "\n",
      "<script>\n",
      "    if (typeof uet == 'function') {\n",
      "      uet(\"bb\", \"LoadTitle\"\n"
     ]
    }
   ],
   "source": [
    "from requests import get\n",
    "url = 'http://www.imdb.com/search/title?release_date=2017&sort=num_votes,desc&page=1'\n",
    "response = get(url)\n",
    "print(response.text[:500])"
   ]
  },
  {
   "cell_type": "code",
   "execution_count": 3,
   "metadata": {},
   "outputs": [],
   "source": [
    "#print(response.text)"
   ]
  },
  {
   "cell_type": "code",
   "execution_count": 4,
   "metadata": {},
   "outputs": [],
   "source": [
    "# To parse our HTML document and extract the 50 div containers, we’ll use a Python module \n",
    "# called BeautifulSoup,"
   ]
  },
  {
   "cell_type": "code",
   "execution_count": 5,
   "metadata": {},
   "outputs": [
    {
     "data": {
      "text/plain": [
       "bs4.BeautifulSoup"
      ]
     },
     "execution_count": 5,
     "metadata": {},
     "output_type": "execute_result"
    }
   ],
   "source": [
    "from bs4 import BeautifulSoup\n",
    "html_soup = BeautifulSoup(response.text, 'html.parser')\n",
    "type(html_soup)"
   ]
  },
  {
   "cell_type": "code",
   "execution_count": 6,
   "metadata": {},
   "outputs": [],
   "source": [
    "# Before extracting the 50 div containers, we need to figure out what distinguishes them \n",
    "# from other div elements on that page. Often, the distinctive mark resides in the class \n",
    "# attribute. If you inspect the HTML lines of the containers of interest, you’ll notice \n",
    "# that the class attribute has two values: lister-item and mode-advanced. This combination\n",
    "# is unique to these div containers. We can see that’s true by doing a quick search \n",
    "# (Ctrl + F). We have 50 such containers, so we expect to see only 50 matches:"
   ]
  },
  {
   "cell_type": "code",
   "execution_count": 7,
   "metadata": {},
   "outputs": [],
   "source": [
    "# Now let’s use the find_all() method to extract all the div containers that have a class \n",
    "# attribute of lister-item mode-advanced:"
   ]
  },
  {
   "cell_type": "code",
   "execution_count": 8,
   "metadata": {},
   "outputs": [
    {
     "name": "stdout",
     "output_type": "stream",
     "text": [
      "<class 'bs4.element.ResultSet'>\n",
      "50\n"
     ]
    }
   ],
   "source": [
    "movie_containers = html_soup.find_all('div', class_ = 'lister-item mode-advanced')\n",
    "print(type(movie_containers))\n",
    "print(len(movie_containers))"
   ]
  },
  {
   "cell_type": "code",
   "execution_count": 9,
   "metadata": {},
   "outputs": [],
   "source": [
    "# find_all() returned a ResultSet object which is a list containing all the 50 divs we \n",
    "# are interested in."
   ]
  },
  {
   "cell_type": "code",
   "execution_count": 10,
   "metadata": {},
   "outputs": [],
   "source": [
    "# Now we’ll select only the first container, and extract, by turn, each item of interest:\n",
    "\n",
    "# The name of the movie.\n",
    "# The year of release.\n",
    "# The IMDB rating.\n",
    "# The Metascore.\n",
    "# The number of votes."
   ]
  },
  {
   "cell_type": "code",
   "execution_count": 11,
   "metadata": {},
   "outputs": [],
   "source": [
    "# Extracting the data for a single movie\n",
    "# We can access the first container, which contains information about a single movie, by \n",
    "# using list notation on movie_containers."
   ]
  },
  {
   "cell_type": "code",
   "execution_count": 12,
   "metadata": {},
   "outputs": [],
   "source": [
    "# As you can see, the HTML content of one container is very long. To find out the HTML \n",
    "# line specific to each data point, we’ll use DevTools once again."
   ]
  },
  {
   "cell_type": "code",
   "execution_count": 13,
   "metadata": {},
   "outputs": [],
   "source": [
    "## The name of the movie\n",
    "# We begin with the movie’s name, and locate its correspondent HTML line by using DevTools\n",
    "# You can see that the name is contained within an anchor tag (<a>). This tag is nested \n",
    "# within a header tag (<h3>). The <h3> tag is nested within a <div> tag. This <div> is the\n",
    "# third of the divs nested in the container of the first movie. We stored the content of \n",
    "# this container in the first_movie variable."
   ]
  },
  {
   "cell_type": "code",
   "execution_count": 14,
   "metadata": {},
   "outputs": [],
   "source": [
    "first_movie = html_soup.find('div', class_ = 'lister-item mode-advanced')"
   ]
  },
  {
   "cell_type": "code",
   "execution_count": 15,
   "metadata": {},
   "outputs": [],
   "source": [
    "# first_movie is a Tag object, and the various HTML tags within it are stored as its \n",
    "# attributes. We can access them just like we would access any attribute of a Python \n",
    "# object. However, using a tag name as an attribute will only select the first tag by that\n",
    "# name. If we run first_movie.div, we only get the content of the first div tag:"
   ]
  },
  {
   "cell_type": "code",
   "execution_count": 16,
   "metadata": {},
   "outputs": [
    {
     "data": {
      "text/plain": [
       "<div class=\"lister-top-right\">\n",
       "<div class=\"ribbonize\" data-caller=\"filmosearch\" data-tconst=\"tt3315342\"></div>\n",
       "</div>"
      ]
     },
     "execution_count": 16,
     "metadata": {},
     "output_type": "execute_result"
    }
   ],
   "source": [
    "first_movie.div"
   ]
  },
  {
   "cell_type": "code",
   "execution_count": 17,
   "metadata": {},
   "outputs": [
    {
     "data": {
      "text/plain": [
       "<a href=\"/title/tt3315342/\"> <img alt=\"Logan\" class=\"loadlate\" data-tconst=\"tt3315342\" height=\"98\" loadlate=\"https://m.media-amazon.com/images/M/MV5BYzc5MTU4N2EtYTkyMi00NjdhLTg3NWEtMTY4OTEyMzJhZTAzXkEyXkFqcGdeQXVyNjc1NTYyMjg@._V1_UX67_CR0,0,67,98_AL_.jpg\" src=\"https://m.media-amazon.com/images/G/01/imdb/images/nopicture/large/film-184890147._CB466725069_.png\" width=\"67\"/>\n",
       "</a>"
      ]
     },
     "execution_count": 17,
     "metadata": {},
     "output_type": "execute_result"
    }
   ],
   "source": [
    "first_movie.a"
   ]
  },
  {
   "cell_type": "code",
   "execution_count": 18,
   "metadata": {},
   "outputs": [
    {
     "data": {
      "text/plain": [
       "<h3 class=\"lister-item-header\">\n",
       "<span class=\"lister-item-index unbold text-primary\">1.</span>\n",
       "<a href=\"/title/tt3315342/\">Logan</a>\n",
       "<span class=\"lister-item-year text-muted unbold\">(2017)</span>\n",
       "</h3>"
      ]
     },
     "execution_count": 18,
     "metadata": {},
     "output_type": "execute_result"
    }
   ],
   "source": [
    "first_movie.h3"
   ]
  },
  {
   "cell_type": "code",
   "execution_count": 19,
   "metadata": {},
   "outputs": [
    {
     "data": {
      "text/plain": [
       "<a href=\"/title/tt3315342/\">Logan</a>"
      ]
     },
     "execution_count": 19,
     "metadata": {},
     "output_type": "execute_result"
    }
   ],
   "source": [
    "first_movie.h3.a"
   ]
  },
  {
   "cell_type": "code",
   "execution_count": 20,
   "metadata": {},
   "outputs": [
    {
     "data": {
      "text/plain": [
       "'Logan'"
      ]
     },
     "execution_count": 20,
     "metadata": {},
     "output_type": "execute_result"
    }
   ],
   "source": [
    "# Now it’s all just a matter of accessing the text from within that <a> tag:\n",
    "first_name = first_movie.h3.a.text\n",
    "first_name"
   ]
  },
  {
   "cell_type": "code",
   "execution_count": 21,
   "metadata": {},
   "outputs": [],
   "source": [
    "# The year of the movie’s release\n",
    "# We move on with extracting the year. This data is stored within the <span> tag below \n",
    "# the <a> that contains the name."
   ]
  },
  {
   "cell_type": "code",
   "execution_count": 22,
   "metadata": {},
   "outputs": [],
   "source": [
    "# Dot notation will only access the first span element. We’ll search by the distinctive \n",
    "# mark of the second <span>. We’ll use the find() method which is almost the same as \n",
    "# find_all(), except that it only returns the first match. In fact, find() is equivalent \n",
    "# to find_all(limit = 1). The limit argument limits the output to the first match.\n",
    "# The distinguishing mark consists of the values lister-item-year text-muted unbold \n",
    "# assigned to the class attribute. So we look for the first <span> with these values \n",
    "# within the <h3> tag:"
   ]
  },
  {
   "cell_type": "code",
   "execution_count": 23,
   "metadata": {},
   "outputs": [
    {
     "data": {
      "text/plain": [
       "<span class=\"lister-item-year text-muted unbold\">(2017)</span>"
      ]
     },
     "execution_count": 23,
     "metadata": {},
     "output_type": "execute_result"
    }
   ],
   "source": [
    "first_year = first_movie.h3.find('span', class_ = 'lister-item-year text-muted unbold')\n",
    "first_year"
   ]
  },
  {
   "cell_type": "code",
   "execution_count": 24,
   "metadata": {},
   "outputs": [
    {
     "data": {
      "text/plain": [
       "'(2017)'"
      ]
     },
     "execution_count": 24,
     "metadata": {},
     "output_type": "execute_result"
    }
   ],
   "source": [
    "# From here, we just access the text using attribute notation:\n",
    "first_year = first_year.text\n",
    "first_year"
   ]
  },
  {
   "cell_type": "code",
   "execution_count": 25,
   "metadata": {},
   "outputs": [],
   "source": [
    "# We could easily clean that output and convert it to an integer. But if you explore more \n",
    "# pages, you will notice that for some movies the year takes unpredictable values like \n",
    "# (2017)(I) or (2015)(V). It’s more efficient to do the cleaning after the scraping, when \n",
    "# we’ll know all the year values."
   ]
  },
  {
   "cell_type": "code",
   "execution_count": 26,
   "metadata": {},
   "outputs": [],
   "source": [
    "# The IMDB rating\n",
    "# We now focus on extracting the IMDB rating of the first movie.\n",
    "# There are a couple of ways to do that, but we’ll first try the easiest one. If you \n",
    "# inspect the IMDB rating using DevTools, you’ll notice that the rating is contained \n",
    "# within a <strong> tag."
   ]
  },
  {
   "cell_type": "code",
   "execution_count": 27,
   "metadata": {},
   "outputs": [
    {
     "data": {
      "text/plain": [
       "<strong>8.1</strong>"
      ]
     },
     "execution_count": 27,
     "metadata": {},
     "output_type": "execute_result"
    }
   ],
   "source": [
    "first_movie.strong"
   ]
  },
  {
   "cell_type": "code",
   "execution_count": 28,
   "metadata": {},
   "outputs": [
    {
     "data": {
      "text/plain": [
       "8.1"
      ]
     },
     "execution_count": 28,
     "metadata": {},
     "output_type": "execute_result"
    }
   ],
   "source": [
    "# Great! We’ll access the text, convert it to the float type, and assign it to the \n",
    "# variable first_imdb:\n",
    "first_imdb = float(first_movie.strong.text)\n",
    "first_imdb"
   ]
  },
  {
   "cell_type": "code",
   "execution_count": 29,
   "metadata": {},
   "outputs": [],
   "source": [
    "# The Metascore\n",
    "# If we inspect the Metascore using DevTools, we’ll notice that we can find it within a \n",
    "# span tag."
   ]
  },
  {
   "cell_type": "code",
   "execution_count": 30,
   "metadata": {},
   "outputs": [],
   "source": [
    "# Attribute notation clearly isn’t a solution. There are many <span> tags before that. \n",
    "# You can see one right above the <strong> tag. We’d better use the distinctive values of \n",
    "# the class attribute (metascore favorable)."
   ]
  },
  {
   "cell_type": "code",
   "execution_count": 31,
   "metadata": {},
   "outputs": [
    {
     "name": "stdout",
     "output_type": "stream",
     "text": [
      "77\n"
     ]
    }
   ],
   "source": [
    "first_mscore = first_movie.find('span', class_ = 'metascore favorable')\n",
    "first_mscore = int(first_mscore.text)\n",
    "print(first_mscore)"
   ]
  },
  {
   "cell_type": "code",
   "execution_count": 32,
   "metadata": {},
   "outputs": [],
   "source": [
    "# The favorable value indicates a high Metascore and sets the rating’s background color to\n",
    "# green. The other two possible values are unfavorable and mixed. What is specific to all \n",
    "# Metascore ratings though is only the metascore value. This is the one we are going to \n",
    "# use when we’ll write the script for the entire page."
   ]
  },
  {
   "cell_type": "code",
   "execution_count": 33,
   "metadata": {},
   "outputs": [],
   "source": [
    "# The favorable value indicates a high Metascore and sets the rating’s background color to\n",
    "# green. The other two possible values are unfavorable and mixed. What is specific to all \n",
    "# Metascore ratings though is only the metascore value. This is the one we are going to \n",
    "# use when we’ll write the script for the entire page."
   ]
  },
  {
   "cell_type": "code",
   "execution_count": 34,
   "metadata": {},
   "outputs": [],
   "source": [
    "# The name attribute is different from the class attribute. Using BeautifulSoup we can \n",
    "# access elements by any attribute. The find() and find_all() functions have a parameter \n",
    "# named attrs. To this we can pass in the attributes and values we are searching for as a \n",
    "# dictionary:"
   ]
  },
  {
   "cell_type": "code",
   "execution_count": 35,
   "metadata": {},
   "outputs": [
    {
     "data": {
      "text/plain": [
       "<span data-value=\"600394\" name=\"nv\">600,394</span>"
      ]
     },
     "execution_count": 35,
     "metadata": {},
     "output_type": "execute_result"
    }
   ],
   "source": [
    "first_votes = first_movie.find('span', attrs = {'name':'nv'})\n",
    "first_votes"
   ]
  },
  {
   "cell_type": "code",
   "execution_count": 36,
   "metadata": {},
   "outputs": [],
   "source": [
    "# We could use .text notation to access the <span> tag’s content. It would be better \n",
    "# though if we accessed the value of the data-value attribute. This way we can convert the \n",
    "# extracted datapoint to an int without having to strip a comma. You can treat a Tag \n",
    "# object just like a dictionary. The HTML attributes are the dictionary’s keys. The values\n",
    "# of the HTML attributes are the values of the dictionary’s keys. This is how we can \n",
    "# access the value of the data-value attribute:"
   ]
  },
  {
   "cell_type": "code",
   "execution_count": 37,
   "metadata": {},
   "outputs": [
    {
     "data": {
      "text/plain": [
       "'600394'"
      ]
     },
     "execution_count": 37,
     "metadata": {},
     "output_type": "execute_result"
    }
   ],
   "source": [
    "first_votes['data-value']"
   ]
  },
  {
   "cell_type": "code",
   "execution_count": 38,
   "metadata": {},
   "outputs": [],
   "source": [
    "# Let’s convert that value to an integer, and assign it to first_votes:\n",
    "first_votes = int(first_votes['data-value'])"
   ]
  },
  {
   "cell_type": "code",
   "execution_count": 39,
   "metadata": {},
   "outputs": [],
   "source": [
    "# The script for a single page\n",
    "# Before piecing together what we’ve done so far, we have to make sure that we’ll extract \n",
    "# the data only from the containers that have a Metascore."
   ]
  },
  {
   "cell_type": "code",
   "execution_count": 40,
   "metadata": {},
   "outputs": [],
   "source": [
    "# Before piecing together what we’ve done so far, we have to make sure that we’ll \n",
    "# extract the data only from the containers that have a Metascore. We need to \n",
    "# add a condition to skip movies without a Metascore."
   ]
  },
  {
   "cell_type": "code",
   "execution_count": 41,
   "metadata": {},
   "outputs": [],
   "source": [
    "# Using DevTools again, we see that the Metascore section is contained within a <div> tag.\n",
    "# The class attribute has two values: inline-block and ratings-metascore. The distinctive \n",
    "# one is clearly ratings-metascore."
   ]
  },
  {
   "cell_type": "code",
   "execution_count": 42,
   "metadata": {},
   "outputs": [],
   "source": [
    "# We can use find() to search each movie container for a div having that distinct mark.\n",
    "# When find() doesn’t find anything, it returns a None object. We can use this result in \n",
    "# an if statement to control whether a movie is scraped."
   ]
  },
  {
   "cell_type": "code",
   "execution_count": 43,
   "metadata": {},
   "outputs": [],
   "source": [
    "# Let’s look on the web page to search for a movie container that doesn’t have a Metascore\n",
    "# , and see what find() returns."
   ]
  },
  {
   "cell_type": "code",
   "execution_count": 44,
   "metadata": {},
   "outputs": [
    {
     "data": {
      "text/plain": [
       "<div class=\"inline-block ratings-metascore\">\n",
       "<span class=\"metascore favorable\">84        </span>\n",
       "        Metascore\n",
       "            </div>"
      ]
     },
     "execution_count": 44,
     "metadata": {},
     "output_type": "execute_result"
    }
   ],
   "source": [
    "eighth_movie_mscore = movie_containers[7].find('div', class_ = 'ratings-metascore')\n",
    "eighth_movie_mscore"
   ]
  },
  {
   "cell_type": "code",
   "execution_count": 45,
   "metadata": {},
   "outputs": [],
   "source": [
    "# let’s put together the code above, and compress it as much as possible, but only \n",
    "# insofar as it’s still easily readable. In the next code block we:"
   ]
  },
  {
   "cell_type": "code",
   "execution_count": 46,
   "metadata": {},
   "outputs": [],
   "source": [
    "# Lists to store the scraped data in\n",
    "names = []\n",
    "years = []\n",
    "imdb_ratings = []\n",
    "metascores = []\n",
    "votes = []\n",
    "# Extract data from individual movie container\n",
    "for container in movie_containers:\n",
    "# If the movie has Metascore, then extract:\n",
    "    if container.find('div', class_ = 'ratings-metascore') is not None:\n",
    "        # The name\n",
    "        name = container.h3.a.text\n",
    "        names.append(name)\n",
    "        # The year\n",
    "        year = container.h3.find('span', class_ = 'lister-item-year').text\n",
    "        years.append(year)\n",
    "        # The IMDB rating\n",
    "        imdb = float(container.strong.text)\n",
    "        imdb_ratings.append(imdb)\n",
    "        # The Metascore\n",
    "        m_score = container.find('span', class_ = 'metascore').text\n",
    "        metascores.append(int(m_score))\n",
    "        # The number of votes\n",
    "        vote = container.find('span', attrs = {'name':'nv'})['data-value']\n",
    "        votes.append(int(vote))"
   ]
  },
  {
   "cell_type": "code",
   "execution_count": 47,
   "metadata": {},
   "outputs": [],
   "source": [
    "# Let’s check the data collected so far. Pandas makes it easy for us to see whether we’ve \n",
    "# scraped our data successfully."
   ]
  },
  {
   "cell_type": "code",
   "execution_count": 48,
   "metadata": {},
   "outputs": [
    {
     "name": "stdout",
     "output_type": "stream",
     "text": [
      "<class 'pandas.core.frame.DataFrame'>\n",
      "RangeIndex: 43 entries, 0 to 42\n",
      "Data columns (total 5 columns):\n",
      "movie        43 non-null object\n",
      "year         43 non-null object\n",
      "imdb         43 non-null float64\n",
      "metascore    43 non-null int64\n",
      "votes        43 non-null int64\n",
      "dtypes: float64(1), int64(2), object(2)\n",
      "memory usage: 1.8+ KB\n",
      "None\n"
     ]
    },
    {
     "data": {
      "text/html": [
       "<div>\n",
       "<style scoped>\n",
       "    .dataframe tbody tr th:only-of-type {\n",
       "        vertical-align: middle;\n",
       "    }\n",
       "\n",
       "    .dataframe tbody tr th {\n",
       "        vertical-align: top;\n",
       "    }\n",
       "\n",
       "    .dataframe thead th {\n",
       "        text-align: right;\n",
       "    }\n",
       "</style>\n",
       "<table border=\"1\" class=\"dataframe\">\n",
       "  <thead>\n",
       "    <tr style=\"text-align: right;\">\n",
       "      <th></th>\n",
       "      <th>movie</th>\n",
       "      <th>year</th>\n",
       "      <th>imdb</th>\n",
       "      <th>metascore</th>\n",
       "      <th>votes</th>\n",
       "    </tr>\n",
       "  </thead>\n",
       "  <tbody>\n",
       "    <tr>\n",
       "      <td>0</td>\n",
       "      <td>Logan</td>\n",
       "      <td>(2017)</td>\n",
       "      <td>8.1</td>\n",
       "      <td>77</td>\n",
       "      <td>600394</td>\n",
       "    </tr>\n",
       "    <tr>\n",
       "      <td>1</td>\n",
       "      <td>Thor: Ragnarok</td>\n",
       "      <td>(2017)</td>\n",
       "      <td>7.9</td>\n",
       "      <td>74</td>\n",
       "      <td>534221</td>\n",
       "    </tr>\n",
       "    <tr>\n",
       "      <td>2</td>\n",
       "      <td>Star Wars: Episode VIII - The Last Jedi</td>\n",
       "      <td>(2017)</td>\n",
       "      <td>7.0</td>\n",
       "      <td>85</td>\n",
       "      <td>525114</td>\n",
       "    </tr>\n",
       "    <tr>\n",
       "      <td>3</td>\n",
       "      <td>Guardians of the Galaxy Vol. 2</td>\n",
       "      <td>(2017)</td>\n",
       "      <td>7.6</td>\n",
       "      <td>67</td>\n",
       "      <td>524773</td>\n",
       "    </tr>\n",
       "    <tr>\n",
       "      <td>4</td>\n",
       "      <td>Wonder Woman</td>\n",
       "      <td>(2017)</td>\n",
       "      <td>7.4</td>\n",
       "      <td>76</td>\n",
       "      <td>517552</td>\n",
       "    </tr>\n",
       "    <tr>\n",
       "      <td>5</td>\n",
       "      <td>Dunkirk</td>\n",
       "      <td>(2017)</td>\n",
       "      <td>7.9</td>\n",
       "      <td>94</td>\n",
       "      <td>501843</td>\n",
       "    </tr>\n",
       "    <tr>\n",
       "      <td>6</td>\n",
       "      <td>Spider-Man: Homecoming</td>\n",
       "      <td>(2017)</td>\n",
       "      <td>7.4</td>\n",
       "      <td>73</td>\n",
       "      <td>472005</td>\n",
       "    </tr>\n",
       "    <tr>\n",
       "      <td>7</td>\n",
       "      <td>Get Out</td>\n",
       "      <td>(I) (2017)</td>\n",
       "      <td>7.7</td>\n",
       "      <td>84</td>\n",
       "      <td>444365</td>\n",
       "    </tr>\n",
       "    <tr>\n",
       "      <td>8</td>\n",
       "      <td>It</td>\n",
       "      <td>(I) (2017)</td>\n",
       "      <td>7.3</td>\n",
       "      <td>69</td>\n",
       "      <td>421464</td>\n",
       "    </tr>\n",
       "    <tr>\n",
       "      <td>9</td>\n",
       "      <td>Blade Runner 2049</td>\n",
       "      <td>(2017)</td>\n",
       "      <td>8.0</td>\n",
       "      <td>81</td>\n",
       "      <td>414046</td>\n",
       "    </tr>\n",
       "    <tr>\n",
       "      <td>10</td>\n",
       "      <td>Baby Driver</td>\n",
       "      <td>(2017)</td>\n",
       "      <td>7.6</td>\n",
       "      <td>86</td>\n",
       "      <td>397818</td>\n",
       "    </tr>\n",
       "    <tr>\n",
       "      <td>11</td>\n",
       "      <td>Three Billboards Outside Ebbing, Missouri</td>\n",
       "      <td>(2017)</td>\n",
       "      <td>8.2</td>\n",
       "      <td>88</td>\n",
       "      <td>382960</td>\n",
       "    </tr>\n",
       "    <tr>\n",
       "      <td>12</td>\n",
       "      <td>Justice League</td>\n",
       "      <td>(2017)</td>\n",
       "      <td>6.4</td>\n",
       "      <td>45</td>\n",
       "      <td>354414</td>\n",
       "    </tr>\n",
       "    <tr>\n",
       "      <td>13</td>\n",
       "      <td>The Shape of Water</td>\n",
       "      <td>(2017)</td>\n",
       "      <td>7.3</td>\n",
       "      <td>87</td>\n",
       "      <td>338750</td>\n",
       "    </tr>\n",
       "    <tr>\n",
       "      <td>14</td>\n",
       "      <td>John Wick: Chapter 2</td>\n",
       "      <td>(2017)</td>\n",
       "      <td>7.5</td>\n",
       "      <td>75</td>\n",
       "      <td>332289</td>\n",
       "    </tr>\n",
       "    <tr>\n",
       "      <td>15</td>\n",
       "      <td>Coco</td>\n",
       "      <td>(I) (2017)</td>\n",
       "      <td>8.4</td>\n",
       "      <td>81</td>\n",
       "      <td>321023</td>\n",
       "    </tr>\n",
       "    <tr>\n",
       "      <td>16</td>\n",
       "      <td>Jumanji: Welcome to the Jungle</td>\n",
       "      <td>(2017)</td>\n",
       "      <td>6.9</td>\n",
       "      <td>58</td>\n",
       "      <td>286159</td>\n",
       "    </tr>\n",
       "    <tr>\n",
       "      <td>17</td>\n",
       "      <td>Beauty and the Beast</td>\n",
       "      <td>(2017)</td>\n",
       "      <td>7.1</td>\n",
       "      <td>65</td>\n",
       "      <td>253851</td>\n",
       "    </tr>\n",
       "    <tr>\n",
       "      <td>18</td>\n",
       "      <td>Kong: Skull Island</td>\n",
       "      <td>(2017)</td>\n",
       "      <td>6.6</td>\n",
       "      <td>62</td>\n",
       "      <td>252825</td>\n",
       "    </tr>\n",
       "    <tr>\n",
       "      <td>19</td>\n",
       "      <td>Kingsman: The Golden Circle</td>\n",
       "      <td>(2017)</td>\n",
       "      <td>6.7</td>\n",
       "      <td>44</td>\n",
       "      <td>249857</td>\n",
       "    </tr>\n",
       "    <tr>\n",
       "      <td>20</td>\n",
       "      <td>Pirates of the Caribbean: Dead Men Tell No Tales</td>\n",
       "      <td>(2017)</td>\n",
       "      <td>6.6</td>\n",
       "      <td>39</td>\n",
       "      <td>242945</td>\n",
       "    </tr>\n",
       "    <tr>\n",
       "      <td>21</td>\n",
       "      <td>Alien: Covenant</td>\n",
       "      <td>(2017)</td>\n",
       "      <td>6.4</td>\n",
       "      <td>65</td>\n",
       "      <td>239134</td>\n",
       "    </tr>\n",
       "    <tr>\n",
       "      <td>22</td>\n",
       "      <td>The Greatest Showman</td>\n",
       "      <td>(2017)</td>\n",
       "      <td>7.6</td>\n",
       "      <td>48</td>\n",
       "      <td>214465</td>\n",
       "    </tr>\n",
       "    <tr>\n",
       "      <td>23</td>\n",
       "      <td>War for the Planet of the Apes</td>\n",
       "      <td>(2017)</td>\n",
       "      <td>7.4</td>\n",
       "      <td>82</td>\n",
       "      <td>213451</td>\n",
       "    </tr>\n",
       "    <tr>\n",
       "      <td>24</td>\n",
       "      <td>Lady Bird</td>\n",
       "      <td>(2017)</td>\n",
       "      <td>7.4</td>\n",
       "      <td>94</td>\n",
       "      <td>203809</td>\n",
       "    </tr>\n",
       "    <tr>\n",
       "      <td>25</td>\n",
       "      <td>Life</td>\n",
       "      <td>(I) (2017)</td>\n",
       "      <td>6.6</td>\n",
       "      <td>54</td>\n",
       "      <td>192749</td>\n",
       "    </tr>\n",
       "    <tr>\n",
       "      <td>26</td>\n",
       "      <td>Murder on the Orient Express</td>\n",
       "      <td>(2017)</td>\n",
       "      <td>6.5</td>\n",
       "      <td>52</td>\n",
       "      <td>192490</td>\n",
       "    </tr>\n",
       "    <tr>\n",
       "      <td>27</td>\n",
       "      <td>The Fate of the Furious</td>\n",
       "      <td>(2017)</td>\n",
       "      <td>6.7</td>\n",
       "      <td>56</td>\n",
       "      <td>191922</td>\n",
       "    </tr>\n",
       "    <tr>\n",
       "      <td>28</td>\n",
       "      <td>Ghost in the Shell</td>\n",
       "      <td>(2017)</td>\n",
       "      <td>6.3</td>\n",
       "      <td>52</td>\n",
       "      <td>186142</td>\n",
       "    </tr>\n",
       "    <tr>\n",
       "      <td>29</td>\n",
       "      <td>Wind River</td>\n",
       "      <td>(2017)</td>\n",
       "      <td>7.7</td>\n",
       "      <td>73</td>\n",
       "      <td>184316</td>\n",
       "    </tr>\n",
       "    <tr>\n",
       "      <td>30</td>\n",
       "      <td>King Arthur: Legend of the Sword</td>\n",
       "      <td>(2017)</td>\n",
       "      <td>6.7</td>\n",
       "      <td>41</td>\n",
       "      <td>179097</td>\n",
       "    </tr>\n",
       "    <tr>\n",
       "      <td>31</td>\n",
       "      <td>Call Me by Your Name</td>\n",
       "      <td>(2017)</td>\n",
       "      <td>7.9</td>\n",
       "      <td>93</td>\n",
       "      <td>177854</td>\n",
       "    </tr>\n",
       "    <tr>\n",
       "      <td>32</td>\n",
       "      <td>Mother!</td>\n",
       "      <td>(2017)</td>\n",
       "      <td>6.6</td>\n",
       "      <td>75</td>\n",
       "      <td>173600</td>\n",
       "    </tr>\n",
       "    <tr>\n",
       "      <td>33</td>\n",
       "      <td>The Hitman's Bodyguard</td>\n",
       "      <td>(2017)</td>\n",
       "      <td>6.9</td>\n",
       "      <td>47</td>\n",
       "      <td>173497</td>\n",
       "    </tr>\n",
       "    <tr>\n",
       "      <td>34</td>\n",
       "      <td>The Mummy</td>\n",
       "      <td>(2017)</td>\n",
       "      <td>5.4</td>\n",
       "      <td>34</td>\n",
       "      <td>163736</td>\n",
       "    </tr>\n",
       "    <tr>\n",
       "      <td>35</td>\n",
       "      <td>Atomic Blonde</td>\n",
       "      <td>(2017)</td>\n",
       "      <td>6.7</td>\n",
       "      <td>63</td>\n",
       "      <td>162755</td>\n",
       "    </tr>\n",
       "    <tr>\n",
       "      <td>36</td>\n",
       "      <td>I, Tonya</td>\n",
       "      <td>(2017)</td>\n",
       "      <td>7.5</td>\n",
       "      <td>77</td>\n",
       "      <td>159808</td>\n",
       "    </tr>\n",
       "    <tr>\n",
       "      <td>37</td>\n",
       "      <td>Bright</td>\n",
       "      <td>(I) (2017)</td>\n",
       "      <td>6.3</td>\n",
       "      <td>29</td>\n",
       "      <td>157579</td>\n",
       "    </tr>\n",
       "    <tr>\n",
       "      <td>38</td>\n",
       "      <td>Darkest Hour</td>\n",
       "      <td>(2017)</td>\n",
       "      <td>7.4</td>\n",
       "      <td>75</td>\n",
       "      <td>152788</td>\n",
       "    </tr>\n",
       "    <tr>\n",
       "      <td>39</td>\n",
       "      <td>Valerian and the City of a Thousand Planets</td>\n",
       "      <td>(2017)</td>\n",
       "      <td>6.5</td>\n",
       "      <td>51</td>\n",
       "      <td>151357</td>\n",
       "    </tr>\n",
       "    <tr>\n",
       "      <td>40</td>\n",
       "      <td>Baywatch</td>\n",
       "      <td>(2017)</td>\n",
       "      <td>5.5</td>\n",
       "      <td>37</td>\n",
       "      <td>149311</td>\n",
       "    </tr>\n",
       "    <tr>\n",
       "      <td>41</td>\n",
       "      <td>American Made</td>\n",
       "      <td>(2017)</td>\n",
       "      <td>7.1</td>\n",
       "      <td>65</td>\n",
       "      <td>145204</td>\n",
       "    </tr>\n",
       "    <tr>\n",
       "      <td>42</td>\n",
       "      <td>Transformers: The Last Knight</td>\n",
       "      <td>(2017)</td>\n",
       "      <td>5.2</td>\n",
       "      <td>27</td>\n",
       "      <td>127130</td>\n",
       "    </tr>\n",
       "  </tbody>\n",
       "</table>\n",
       "</div>"
      ],
      "text/plain": [
       "                                               movie        year  imdb  \\\n",
       "0                                              Logan      (2017)   8.1   \n",
       "1                                     Thor: Ragnarok      (2017)   7.9   \n",
       "2            Star Wars: Episode VIII - The Last Jedi      (2017)   7.0   \n",
       "3                     Guardians of the Galaxy Vol. 2      (2017)   7.6   \n",
       "4                                       Wonder Woman      (2017)   7.4   \n",
       "5                                            Dunkirk      (2017)   7.9   \n",
       "6                             Spider-Man: Homecoming      (2017)   7.4   \n",
       "7                                            Get Out  (I) (2017)   7.7   \n",
       "8                                                 It  (I) (2017)   7.3   \n",
       "9                                  Blade Runner 2049      (2017)   8.0   \n",
       "10                                       Baby Driver      (2017)   7.6   \n",
       "11         Three Billboards Outside Ebbing, Missouri      (2017)   8.2   \n",
       "12                                    Justice League      (2017)   6.4   \n",
       "13                                The Shape of Water      (2017)   7.3   \n",
       "14                              John Wick: Chapter 2      (2017)   7.5   \n",
       "15                                              Coco  (I) (2017)   8.4   \n",
       "16                    Jumanji: Welcome to the Jungle      (2017)   6.9   \n",
       "17                              Beauty and the Beast      (2017)   7.1   \n",
       "18                                Kong: Skull Island      (2017)   6.6   \n",
       "19                       Kingsman: The Golden Circle      (2017)   6.7   \n",
       "20  Pirates of the Caribbean: Dead Men Tell No Tales      (2017)   6.6   \n",
       "21                                   Alien: Covenant      (2017)   6.4   \n",
       "22                              The Greatest Showman      (2017)   7.6   \n",
       "23                    War for the Planet of the Apes      (2017)   7.4   \n",
       "24                                         Lady Bird      (2017)   7.4   \n",
       "25                                              Life  (I) (2017)   6.6   \n",
       "26                      Murder on the Orient Express      (2017)   6.5   \n",
       "27                           The Fate of the Furious      (2017)   6.7   \n",
       "28                                Ghost in the Shell      (2017)   6.3   \n",
       "29                                        Wind River      (2017)   7.7   \n",
       "30                  King Arthur: Legend of the Sword      (2017)   6.7   \n",
       "31                              Call Me by Your Name      (2017)   7.9   \n",
       "32                                           Mother!      (2017)   6.6   \n",
       "33                            The Hitman's Bodyguard      (2017)   6.9   \n",
       "34                                         The Mummy      (2017)   5.4   \n",
       "35                                     Atomic Blonde      (2017)   6.7   \n",
       "36                                          I, Tonya      (2017)   7.5   \n",
       "37                                            Bright  (I) (2017)   6.3   \n",
       "38                                      Darkest Hour      (2017)   7.4   \n",
       "39       Valerian and the City of a Thousand Planets      (2017)   6.5   \n",
       "40                                          Baywatch      (2017)   5.5   \n",
       "41                                     American Made      (2017)   7.1   \n",
       "42                     Transformers: The Last Knight      (2017)   5.2   \n",
       "\n",
       "    metascore   votes  \n",
       "0          77  600394  \n",
       "1          74  534221  \n",
       "2          85  525114  \n",
       "3          67  524773  \n",
       "4          76  517552  \n",
       "5          94  501843  \n",
       "6          73  472005  \n",
       "7          84  444365  \n",
       "8          69  421464  \n",
       "9          81  414046  \n",
       "10         86  397818  \n",
       "11         88  382960  \n",
       "12         45  354414  \n",
       "13         87  338750  \n",
       "14         75  332289  \n",
       "15         81  321023  \n",
       "16         58  286159  \n",
       "17         65  253851  \n",
       "18         62  252825  \n",
       "19         44  249857  \n",
       "20         39  242945  \n",
       "21         65  239134  \n",
       "22         48  214465  \n",
       "23         82  213451  \n",
       "24         94  203809  \n",
       "25         54  192749  \n",
       "26         52  192490  \n",
       "27         56  191922  \n",
       "28         52  186142  \n",
       "29         73  184316  \n",
       "30         41  179097  \n",
       "31         93  177854  \n",
       "32         75  173600  \n",
       "33         47  173497  \n",
       "34         34  163736  \n",
       "35         63  162755  \n",
       "36         77  159808  \n",
       "37         29  157579  \n",
       "38         75  152788  \n",
       "39         51  151357  \n",
       "40         37  149311  \n",
       "41         65  145204  \n",
       "42         27  127130  "
      ]
     },
     "execution_count": 48,
     "metadata": {},
     "output_type": "execute_result"
    }
   ],
   "source": [
    "import pandas as pd\n",
    "\n",
    "test_df = pd.DataFrame({'movie': names,\n",
    "'year': years,\n",
    "'imdb': imdb_ratings,\n",
    "'metascore': metascores,\n",
    "'votes': votes\n",
    "})\n",
    "\n",
    "print(test_df.info())\n",
    "test_df"
   ]
  },
  {
   "cell_type": "code",
   "execution_count": 49,
   "metadata": {},
   "outputs": [],
   "source": [
    "# As a side note, if you run the code from a country where English is not the main \n",
    "# language, it’s very likely that you’ll get some of the movie names translated into the \n",
    "# main language of that country.\n",
    "\n",
    "# Most likely, this happens because the server infers your location from your IP address. \n",
    "# Even if you are located in a country where English is the main language, you may still \n",
    "# get translated content. This may happen if you’re using a VPN while you’re making the \n",
    "# GET requests.\n",
    "\n",
    "# If you run into this issue, pass the following values to the headers parameter of the \n",
    "# get() function:\n",
    "headers = {\"Accept-Language\": \"en-US, en;q=0.5\"}"
   ]
  },
  {
   "cell_type": "code",
   "execution_count": 50,
   "metadata": {},
   "outputs": [],
   "source": [
    "## The script for multiple pages"
   ]
  },
  {
   "cell_type": "code",
   "execution_count": 51,
   "metadata": {},
   "outputs": [],
   "source": [
    "# We’ll scrape the first 4 pages of each year in the interval 2000-2017. 4 pages for each \n",
    "# of the 18 years makes for a total of 72 pages. Each page has 50 movies, so we’ll scrape \n",
    "# data for 3600 movies at most. But not all the movies have a Metascore, so the number \n",
    "# will be lower than that. Even so, we are still very likely to get data for over 2000 \n",
    "# movies."
   ]
  },
  {
   "cell_type": "code",
   "execution_count": 52,
   "metadata": {},
   "outputs": [],
   "source": [
    "# As we are making the requests, we’ll only have to vary the values of only two parameters\n",
    "# of the URL: the release_date parameter, and page. Let’s prepare the values we’ll need \n",
    "# for the forthcoming loop. In the next code cell we will:\n",
    "\n",
    "# Create a list called pages, and populate it with the strings corresponding to the first \n",
    "# 4 pages.\n",
    "\n",
    "# Create a list called years_url and populate it with the strings corresponding to the \n",
    "# years 2000-2017."
   ]
  },
  {
   "cell_type": "code",
   "execution_count": 53,
   "metadata": {},
   "outputs": [],
   "source": [
    "pages = [str(i) for i in range(1,5)]\n",
    "years_url = [str(i) for i in range(2000,2018)]"
   ]
  },
  {
   "cell_type": "code",
   "execution_count": 54,
   "metadata": {},
   "outputs": [],
   "source": [
    "## Controlling the crawl-rate"
   ]
  },
  {
   "cell_type": "code",
   "execution_count": 55,
   "metadata": {},
   "outputs": [],
   "source": [
    "# Controlling the rate of crawling is beneficial for us, and for the website we are \n",
    "# scraping. If we avoid hammering the server with tens of requests per second, then we are\n",
    "# much less likely to get our IP address banned. We also avoid disrupting the activity of \n",
    "# the website we scrape by allowing the server to respond to other users’ requests too."
   ]
  },
  {
   "cell_type": "code",
   "execution_count": 56,
   "metadata": {},
   "outputs": [],
   "source": [
    "# We’ll control the loop’s rate by using the sleep() function from Python’s time module. \n",
    "# sleep() will pause the execution of the loop for a specified amount of seconds.\n",
    "\n",
    "# To mimic human behavior, we’ll vary the amount of waiting time between requests by using\n",
    "# the randint() function from the Python’s random module. randint() randomly generates \n",
    "# integers within a specified interval."
   ]
  },
  {
   "cell_type": "code",
   "execution_count": 57,
   "metadata": {},
   "outputs": [
    {
     "name": "stdout",
     "output_type": "stream",
     "text": [
      "Jesus is Lord\n",
      "Jesus is Lord\n",
      "Jesus is Lord\n"
     ]
    }
   ],
   "source": [
    "# e.g\n",
    "from time import sleep\n",
    "from random import randint\n",
    "\n",
    "for _ in range(1,4):\n",
    "    print('Jesus is Lord')\n",
    "    sleep(randint(1,5))"
   ]
  },
  {
   "cell_type": "code",
   "execution_count": 58,
   "metadata": {},
   "outputs": [],
   "source": [
    "## Monitoring the loop as it’s still going"
   ]
  },
  {
   "cell_type": "code",
   "execution_count": 59,
   "metadata": {},
   "outputs": [],
   "source": [
    "# Given that we’re scraping 72 pages, it would be nice if we could find a way to monitor \n",
    "# the scraping process as it’s still going. This feature is definitely optional, but it \n",
    "# can be very helpful in the testing and debugging process. Also, the greater the number \n",
    "# of pages, the more helpful the monitoring becomes. If you are going to scrape hundreds \n",
    "# or thousands of web pages in a single code run, I would say that this feature becomes a \n",
    "# must."
   ]
  },
  {
   "cell_type": "code",
   "execution_count": 60,
   "metadata": {},
   "outputs": [],
   "source": [
    "# For our script, we’ll make use of this feature, and monitor the following parameters:\n",
    "\n",
    "# The frequency (speed) of requests, so we make sure our program is not overloading the \n",
    "# server.\n",
    "\n",
    "# The number of requests, so we can halt the loop in case the number of expected requests \n",
    "# is exceeded.\n",
    "\n",
    "# The status code of our requests, so we make sure the server is sending back the proper \n",
    "# responses."
   ]
  },
  {
   "cell_type": "code",
   "execution_count": 61,
   "metadata": {},
   "outputs": [],
   "source": [
    "# To get a frequency value we’ll divide the number of requests by the time elapsed since \n",
    "# the first request. This is similar to computing the speed of a car – we divide the \n",
    "# distance by the time taken to cover that distance. Let’s experiment with this monitoring\n",
    "# technique at a small scale first. In the following code cell we will:"
   ]
  },
  {
   "cell_type": "code",
   "execution_count": 62,
   "metadata": {},
   "outputs": [],
   "source": [
    "# Set a starting time using the time() function from the time module, and assign the \n",
    "# value to start_time.\n",
    "\n",
    "# Assign 0 to the variable requests which we’ll use to count the number of requests.\n",
    "# Start a loop, and then with each iteration:\n",
    "    # Simulate a request.\n",
    "    # Increment the number of requests by 1.\n",
    "    # Pause the loop for a time interval between 8 and 15 seconds.\n",
    "    # Calculate the elapsed time since the first request, and assign the value to \n",
    "    # elapsed_time.\n",
    "    # Print the number of requests and the frequency."
   ]
  },
  {
   "cell_type": "code",
   "execution_count": 63,
   "metadata": {},
   "outputs": [
    {
     "name": "stdout",
     "output_type": "stream",
     "text": [
      "Request: 1; Frequency: 0.3250773494707994 requests/s\n",
      "Request: 2; Frequency: 0.49050889064789316 requests/s\n",
      "Request: 3; Frequency: 0.4235668122999842 requests/s\n",
      "Request: 4; Frequency: 0.44014569193634984 requests/s\n",
      "Request: 5; Frequency: 0.4953754724711551 requests/s\n"
     ]
    }
   ],
   "source": [
    "from time import time\n",
    "\n",
    "start_time = time()\n",
    "requests = 0\n",
    "for _ in range(5):\n",
    "# A request would go here\n",
    "    requests += 1\n",
    "    sleep(randint(1,3))\n",
    "    elapsed_time = time() - start_time\n",
    "    print('Request: {}; Frequency: {} requests/s'.format(requests, requests/elapsed_time))"
   ]
  },
  {
   "cell_type": "code",
   "execution_count": 64,
   "metadata": {},
   "outputs": [],
   "source": [
    "# Since we’re going to make 72 requests, our work will look a bit untidy as the output \n",
    "# accumulates. To avoid that, we’ll clear the output after each iteration, and replace it \n",
    "# with information about the most recent request. To do that we’ll use the clear_output()\n",
    "# function from the IPython’s core.display module. We’ll set the wait parameter of \n",
    "# clear_output() to True to wait with replacing the current output until some new output \n",
    "# appears."
   ]
  },
  {
   "cell_type": "code",
   "execution_count": 65,
   "metadata": {},
   "outputs": [
    {
     "name": "stdout",
     "output_type": "stream",
     "text": [
      "Request: 1; Frequency: 0.33324490350621483 requests/s\n",
      "Request: 2; Frequency: 0.3329918442759088 requests/s\n",
      "Request: 3; Frequency: 0.33305423777094395 requests/s\n",
      "Request: 4; Frequency: 0.3996539346872829 requests/s\n",
      "Request: 5; Frequency: 0.41629823866004007 requests/s\n"
     ]
    }
   ],
   "source": [
    "from IPython.core.display import clear_output\n",
    "\n",
    "start_time = time()\n",
    "requests = 0\n",
    "for _ in range(5):\n",
    "# A request would go here\n",
    "    requests += 1\n",
    "    sleep(randint(1,3))\n",
    "    current_time = time()\n",
    "    elapsed_time = current_time - start_time\n",
    "    print('Request: {}; Frequency: {} requests/s'.format(requests, requests/elapsed_time))\n",
    "clear_output(wait = True)"
   ]
  },
  {
   "cell_type": "code",
   "execution_count": 66,
   "metadata": {},
   "outputs": [],
   "source": [
    "# To monitor the status code we’ll set the program to warn us if there’s something off. \n",
    "# A successful request is indicated by a status code of 200. We’ll use the warn() function\n",
    "# from the warnings module to throw a warning if the status code is not 200."
   ]
  },
  {
   "cell_type": "code",
   "execution_count": 67,
   "metadata": {},
   "outputs": [
    {
     "name": "stderr",
     "output_type": "stream",
     "text": [
      "/opt/anaconda3/lib/python3.7/site-packages/ipykernel_launcher.py:2: UserWarning: Warning Simulation\n",
      "  \n"
     ]
    }
   ],
   "source": [
    "from warnings import warn\n",
    "warn(\"Warning Simulation\")"
   ]
  },
  {
   "cell_type": "code",
   "execution_count": 68,
   "metadata": {},
   "outputs": [],
   "source": [
    "# We chose a warning over breaking the loop because there’s a good possibility we’ll \n",
    "# scrape enough data, even if some of the requests fail. We will only break the loop if \n",
    "# the number of requests is greater than expected."
   ]
  },
  {
   "cell_type": "code",
   "execution_count": 69,
   "metadata": {},
   "outputs": [],
   "source": [
    "### Piecing everything together"
   ]
  },
  {
   "cell_type": "code",
   "execution_count": 70,
   "metadata": {},
   "outputs": [],
   "source": [
    "# Now let’s piece together everything we’ve done so far! In the following code cell, \n",
    "    # we start by:\n",
    "\n",
    "# Redeclaring the lists variables so they become empty again.\n",
    "# Preparing the monitoring of the loop.\n",
    "# Then, we’ll:\n",
    "\n",
    "# Loop through the years_url list to vary the release_date parameter of the URL.\n",
    "# For each element in years_url, loop through the pages list to vary the page parameter\n",
    "    # of the URL.\n",
    "# Make the GET requests within the pages loop (and give the headers parameter the right \n",
    "    # value to make sure we get only English content).\n",
    "# Pause the loop for a time interval between 8 and 15 seconds.\n",
    "# Monitor each request as discussed before.\n",
    "# Throw a warning for non-200 status codes.\n",
    "# Break the loop if the number of requests is greater than expected.\n",
    "# Convert the response‘s HTML content to a BeautifulSoup object.\n",
    "# Extract all movie containers from this BeautifulSoup object.\n",
    "# Loop through all these containers.\n",
    "# Extract the data if a container has a Metascore."
   ]
  },
  {
   "cell_type": "code",
   "execution_count": 72,
   "metadata": {},
   "outputs": [
    {
     "name": "stdout",
     "output_type": "stream",
     "text": [
      "Request:72; Frequency: 0.06985100830839899 requests/s\n"
     ]
    }
   ],
   "source": [
    "# Redeclaring the lists to store data in\n",
    "names = []\n",
    "years = []\n",
    "imdb_ratings = []\n",
    "metascores = []\n",
    "votes = []\n",
    "\n",
    "# Preparing the monitoring of the loop\n",
    "start_time = time()\n",
    "requests = 0\n",
    "\n",
    "# For every year in the interval 2000-2017\n",
    "for year_url in years_url:\n",
    "\n",
    "    # For every page in the interval 1-4\n",
    "    for page in pages:\n",
    "\n",
    "        # Make a get request\n",
    "        response = get('http://www.imdb.com/search/title?release_date=' + year_url +\n",
    "        '&sort=num_votes,desc&page=' + page, headers = headers)\n",
    "\n",
    "        # Pause the loop\n",
    "        sleep(randint(8,15))\n",
    "\n",
    "        # Monitor the requests\n",
    "        requests += 1\n",
    "        elapsed_time = time() - start_time\n",
    "        print('Request:{}; Frequency: {} requests/s'.format(requests, requests/elapsed_time))\n",
    "        clear_output(wait = True)\n",
    "\n",
    "        # Throw a warning for non-200 status codes\n",
    "        if response.status_code != 200:\n",
    "            warn('Request: {}; Status code: {}'.format(requests, response.status_code))\n",
    "\n",
    "        # Break the loop if the number of requests is greater than expected\n",
    "        if requests > 72:\n",
    "            warn('Number of requests was greater than expected.')\n",
    "            break\n",
    "\n",
    "        # Parse the content of the request with BeautifulSoup\n",
    "        page_html = BeautifulSoup(response.text, 'html.parser')\n",
    "\n",
    "        # Select all the 50 movie containers from a single page\n",
    "        mv_containers = page_html.find_all('div', class_ = 'lister-item mode-advanced')\n",
    "\n",
    "        # For every movie of these 50\n",
    "        for container in mv_containers:\n",
    "            # If the movie has a Metascore, then:\n",
    "            if container.find('div', class_ = 'ratings-metascore') is not None:\n",
    "\n",
    "                # Scrape the name\n",
    "                name = container.h3.a.text\n",
    "                names.append(name)\n",
    "\n",
    "                # Scrape the year\n",
    "                year = container.h3.find('span', class_ = 'lister-item-year').text\n",
    "                years.append(year)\n",
    "\n",
    "                # Scrape the IMDB rating\n",
    "                imdb = float(container.strong.text)\n",
    "                imdb_ratings.append(imdb)\n",
    "\n",
    "                # Scrape the Metascore\n",
    "                m_score = container.find('span', class_ = 'metascore').text\n",
    "                metascores.append(int(m_score))\n",
    "\n",
    "                # Scrape the number of votes\n",
    "                vote = container.find('span', attrs = {'name':'nv'})['data-value']\n",
    "                votes.append(int(vote))"
   ]
  },
  {
   "cell_type": "code",
   "execution_count": 73,
   "metadata": {},
   "outputs": [],
   "source": [
    "# Examining the scraped data\n",
    "\n",
    "#In the next code block we:\n",
    "\n",
    "# Merge the data into a pandas DataFrame.\n",
    "# Print some informations about the newly created DataFrame.\n",
    "# Show the first 10 entries."
   ]
  },
  {
   "cell_type": "code",
   "execution_count": 74,
   "metadata": {},
   "outputs": [
    {
     "name": "stdout",
     "output_type": "stream",
     "text": [
      "<class 'pandas.core.frame.DataFrame'>\n",
      "RangeIndex: 3280 entries, 0 to 3279\n",
      "Data columns (total 5 columns):\n",
      "movie        3280 non-null object\n",
      "year         3280 non-null object\n",
      "imdb         3280 non-null float64\n",
      "metascore    3280 non-null int64\n",
      "votes        3280 non-null int64\n",
      "dtypes: float64(1), int64(2), object(2)\n",
      "memory usage: 128.2+ KB\n",
      "None\n"
     ]
    },
    {
     "data": {
      "text/html": [
       "<div>\n",
       "<style scoped>\n",
       "    .dataframe tbody tr th:only-of-type {\n",
       "        vertical-align: middle;\n",
       "    }\n",
       "\n",
       "    .dataframe tbody tr th {\n",
       "        vertical-align: top;\n",
       "    }\n",
       "\n",
       "    .dataframe thead th {\n",
       "        text-align: right;\n",
       "    }\n",
       "</style>\n",
       "<table border=\"1\" class=\"dataframe\">\n",
       "  <thead>\n",
       "    <tr style=\"text-align: right;\">\n",
       "      <th></th>\n",
       "      <th>movie</th>\n",
       "      <th>year</th>\n",
       "      <th>imdb</th>\n",
       "      <th>metascore</th>\n",
       "      <th>votes</th>\n",
       "    </tr>\n",
       "  </thead>\n",
       "  <tbody>\n",
       "    <tr>\n",
       "      <td>0</td>\n",
       "      <td>Gladiator</td>\n",
       "      <td>(2000)</td>\n",
       "      <td>8.5</td>\n",
       "      <td>67</td>\n",
       "      <td>1266163</td>\n",
       "    </tr>\n",
       "    <tr>\n",
       "      <td>1</td>\n",
       "      <td>Memento</td>\n",
       "      <td>(2000)</td>\n",
       "      <td>8.4</td>\n",
       "      <td>80</td>\n",
       "      <td>1065952</td>\n",
       "    </tr>\n",
       "    <tr>\n",
       "      <td>2</td>\n",
       "      <td>Snatch</td>\n",
       "      <td>(2000)</td>\n",
       "      <td>8.3</td>\n",
       "      <td>55</td>\n",
       "      <td>744568</td>\n",
       "    </tr>\n",
       "    <tr>\n",
       "      <td>3</td>\n",
       "      <td>Requiem for a Dream</td>\n",
       "      <td>(2000)</td>\n",
       "      <td>8.3</td>\n",
       "      <td>68</td>\n",
       "      <td>726376</td>\n",
       "    </tr>\n",
       "    <tr>\n",
       "      <td>4</td>\n",
       "      <td>X-Men</td>\n",
       "      <td>(2000)</td>\n",
       "      <td>7.4</td>\n",
       "      <td>64</td>\n",
       "      <td>551240</td>\n",
       "    </tr>\n",
       "    <tr>\n",
       "      <td>5</td>\n",
       "      <td>Cast Away</td>\n",
       "      <td>(2000)</td>\n",
       "      <td>7.8</td>\n",
       "      <td>73</td>\n",
       "      <td>491499</td>\n",
       "    </tr>\n",
       "    <tr>\n",
       "      <td>6</td>\n",
       "      <td>American Psycho</td>\n",
       "      <td>(2000)</td>\n",
       "      <td>7.6</td>\n",
       "      <td>64</td>\n",
       "      <td>453725</td>\n",
       "    </tr>\n",
       "    <tr>\n",
       "      <td>7</td>\n",
       "      <td>Unbreakable</td>\n",
       "      <td>(2000)</td>\n",
       "      <td>7.3</td>\n",
       "      <td>62</td>\n",
       "      <td>370358</td>\n",
       "    </tr>\n",
       "    <tr>\n",
       "      <td>8</td>\n",
       "      <td>Mission: Impossible II</td>\n",
       "      <td>(2000)</td>\n",
       "      <td>6.1</td>\n",
       "      <td>59</td>\n",
       "      <td>300139</td>\n",
       "    </tr>\n",
       "    <tr>\n",
       "      <td>9</td>\n",
       "      <td>Meet the Parents</td>\n",
       "      <td>(2000)</td>\n",
       "      <td>7.0</td>\n",
       "      <td>73</td>\n",
       "      <td>299747</td>\n",
       "    </tr>\n",
       "  </tbody>\n",
       "</table>\n",
       "</div>"
      ],
      "text/plain": [
       "                    movie    year  imdb  metascore    votes\n",
       "0               Gladiator  (2000)   8.5         67  1266163\n",
       "1                 Memento  (2000)   8.4         80  1065952\n",
       "2                  Snatch  (2000)   8.3         55   744568\n",
       "3     Requiem for a Dream  (2000)   8.3         68   726376\n",
       "4                   X-Men  (2000)   7.4         64   551240\n",
       "5               Cast Away  (2000)   7.8         73   491499\n",
       "6         American Psycho  (2000)   7.6         64   453725\n",
       "7             Unbreakable  (2000)   7.3         62   370358\n",
       "8  Mission: Impossible II  (2000)   6.1         59   300139\n",
       "9        Meet the Parents  (2000)   7.0         73   299747"
      ]
     },
     "execution_count": 74,
     "metadata": {},
     "output_type": "execute_result"
    }
   ],
   "source": [
    "movie_ratings = pd.DataFrame({'movie': names,\n",
    "'year': years,\n",
    "'imdb': imdb_ratings,\n",
    "'metascore': metascores,\n",
    "'votes': votes\n",
    "})\n",
    "\n",
    "print(movie_ratings.info())\n",
    "movie_ratings.head(10)"
   ]
  },
  {
   "cell_type": "code",
   "execution_count": 75,
   "metadata": {},
   "outputs": [],
   "source": [
    "# The output of info() shows we collected data for well over 2000 movies. We can also see \n",
    "# that there are no null values in our dataset whatsoever."
   ]
  },
  {
   "cell_type": "code",
   "execution_count": 76,
   "metadata": {},
   "outputs": [],
   "source": [
    "## Cleaning the scraped data\n",
    "\n",
    "# We’ll clean the scraped data with two goals in mind: plotting the distribution of IMDB \n",
    "# and Metascore ratings, and sharing the dataset. Consequently, our data cleaning will \n",
    "# consist of:\n",
    "\n",
    "# Reordering the columns.\n",
    "# Cleaning the year column and convert the values to integers.\n",
    "# Checking the extreme rating values to determine if all the ratings are within the \n",
    "    # expected intervals.\n",
    "# Normalizing one of the ratings type (or both) for generating a comparative histogram.\n",
    "# Let’s start by reordering the columns:"
   ]
  },
  {
   "cell_type": "code",
   "execution_count": 77,
   "metadata": {},
   "outputs": [
    {
     "data": {
      "text/html": [
       "<div>\n",
       "<style scoped>\n",
       "    .dataframe tbody tr th:only-of-type {\n",
       "        vertical-align: middle;\n",
       "    }\n",
       "\n",
       "    .dataframe tbody tr th {\n",
       "        vertical-align: top;\n",
       "    }\n",
       "\n",
       "    .dataframe thead th {\n",
       "        text-align: right;\n",
       "    }\n",
       "</style>\n",
       "<table border=\"1\" class=\"dataframe\">\n",
       "  <thead>\n",
       "    <tr style=\"text-align: right;\">\n",
       "      <th></th>\n",
       "      <th>movie</th>\n",
       "      <th>year</th>\n",
       "      <th>imdb</th>\n",
       "      <th>metascore</th>\n",
       "      <th>votes</th>\n",
       "    </tr>\n",
       "  </thead>\n",
       "  <tbody>\n",
       "    <tr>\n",
       "      <td>0</td>\n",
       "      <td>Gladiator</td>\n",
       "      <td>(2000)</td>\n",
       "      <td>8.5</td>\n",
       "      <td>67</td>\n",
       "      <td>1266163</td>\n",
       "    </tr>\n",
       "    <tr>\n",
       "      <td>1</td>\n",
       "      <td>Memento</td>\n",
       "      <td>(2000)</td>\n",
       "      <td>8.4</td>\n",
       "      <td>80</td>\n",
       "      <td>1065952</td>\n",
       "    </tr>\n",
       "    <tr>\n",
       "      <td>2</td>\n",
       "      <td>Snatch</td>\n",
       "      <td>(2000)</td>\n",
       "      <td>8.3</td>\n",
       "      <td>55</td>\n",
       "      <td>744568</td>\n",
       "    </tr>\n",
       "    <tr>\n",
       "      <td>3</td>\n",
       "      <td>Requiem for a Dream</td>\n",
       "      <td>(2000)</td>\n",
       "      <td>8.3</td>\n",
       "      <td>68</td>\n",
       "      <td>726376</td>\n",
       "    </tr>\n",
       "    <tr>\n",
       "      <td>4</td>\n",
       "      <td>X-Men</td>\n",
       "      <td>(2000)</td>\n",
       "      <td>7.4</td>\n",
       "      <td>64</td>\n",
       "      <td>551240</td>\n",
       "    </tr>\n",
       "  </tbody>\n",
       "</table>\n",
       "</div>"
      ],
      "text/plain": [
       "                 movie    year  imdb  metascore    votes\n",
       "0            Gladiator  (2000)   8.5         67  1266163\n",
       "1              Memento  (2000)   8.4         80  1065952\n",
       "2               Snatch  (2000)   8.3         55   744568\n",
       "3  Requiem for a Dream  (2000)   8.3         68   726376\n",
       "4                X-Men  (2000)   7.4         64   551240"
      ]
     },
     "execution_count": 77,
     "metadata": {},
     "output_type": "execute_result"
    }
   ],
   "source": [
    "movie_ratings = movie_ratings[['movie', 'year', 'imdb', 'metascore', 'votes']]\n",
    "movie_ratings.head()"
   ]
  },
  {
   "cell_type": "code",
   "execution_count": 78,
   "metadata": {},
   "outputs": [],
   "source": [
    "# Now let’s convert all the values in the year column to integers.\n",
    "\n",
    "# Right now all the values are of the object type. To avoid ValueErrors upon conversion, \n",
    "# we want the values to be composed only from numbers from 0 to 9.\n",
    "\n",
    "# Let’s examine the unique values of the year column. This helps us to get an idea of what\n",
    "# we could do to make the conversions we want. To see all the unique values, we’ll use the\n",
    "# unique() method:"
   ]
  },
  {
   "cell_type": "code",
   "execution_count": 79,
   "metadata": {},
   "outputs": [
    {
     "data": {
      "text/plain": [
       "array(['(2000)', '(I) (2000)', '(2001)', '(2002)', '(2003)', '(2004)',\n",
       "       '(I) (2004)', '(2005)', '(I) (2005)', '(2006)', '(I) (2006)',\n",
       "       '(2007)', '(I) (2007)', '(2008)', '(I) (2008)', '(2009)',\n",
       "       '(I) (2009)', '(2010)', '(I) (2010)', '(2011)', '(I) (2011)',\n",
       "       '(2012)', '(I) (2012)', '(2013)', '(I) (2013)', '(2014)',\n",
       "       '(I) (2014)', '(II) (2014)', '(2015)', '(I) (2015)', '(II) (2015)',\n",
       "       '(2016)', '(II) (2016)', '(I) (2016)', '(IX) (2016)', '(2017)',\n",
       "       '(I) (2017)'], dtype=object)"
      ]
     },
     "execution_count": 79,
     "metadata": {},
     "output_type": "execute_result"
    }
   ],
   "source": [
    "movie_ratings['year'].unique()"
   ]
  },
  {
   "cell_type": "code",
   "execution_count": 80,
   "metadata": {},
   "outputs": [],
   "source": [
    "# Counting from the end toward beginning, we can see that the years are always located \n",
    "# from the fifth character to the second. We’ll use the .str() method to select only that \n",
    "# interval. We’ll also convert the result to an integer using the astype() method:"
   ]
  },
  {
   "cell_type": "code",
   "execution_count": 81,
   "metadata": {},
   "outputs": [],
   "source": [
    "movie_ratings.loc[:, 'year'] = movie_ratings['year'].str[-5:-1].astype(int)"
   ]
  },
  {
   "cell_type": "code",
   "execution_count": 82,
   "metadata": {},
   "outputs": [],
   "source": [
    "# Let’s visualize the first 3 values of the year column for a quick check. We can also see\n",
    "# the type of the values on the last line of the output:"
   ]
  },
  {
   "cell_type": "code",
   "execution_count": 83,
   "metadata": {},
   "outputs": [
    {
     "data": {
      "text/plain": [
       "0    2000\n",
       "1    2000\n",
       "2    2000\n",
       "Name: year, dtype: int64"
      ]
     },
     "execution_count": 83,
     "metadata": {},
     "output_type": "execute_result"
    }
   ],
   "source": [
    "movie_ratings['year'].head(3)"
   ]
  },
  {
   "cell_type": "code",
   "execution_count": 84,
   "metadata": {},
   "outputs": [],
   "source": [
    "# Now we’ll check the minimum and maximum values of each type of rating. We can do this \n",
    "# very quickly by using pandas’ describe() method. When applied on a DataFrame, this \n",
    "# method returns various descriptive statistics for each numerical column of the DataFrame.\n",
    "# In the next line of code we select only those rows that describe the minimum and maximum\n",
    "# values, and only those columns which describe IMDB ratings and Metascores."
   ]
  },
  {
   "cell_type": "code",
   "execution_count": 85,
   "metadata": {},
   "outputs": [
    {
     "data": {
      "text/html": [
       "<div>\n",
       "<style scoped>\n",
       "    .dataframe tbody tr th:only-of-type {\n",
       "        vertical-align: middle;\n",
       "    }\n",
       "\n",
       "    .dataframe tbody tr th {\n",
       "        vertical-align: top;\n",
       "    }\n",
       "\n",
       "    .dataframe thead th {\n",
       "        text-align: right;\n",
       "    }\n",
       "</style>\n",
       "<table border=\"1\" class=\"dataframe\">\n",
       "  <thead>\n",
       "    <tr style=\"text-align: right;\">\n",
       "      <th></th>\n",
       "      <th>imdb</th>\n",
       "      <th>metascore</th>\n",
       "    </tr>\n",
       "  </thead>\n",
       "  <tbody>\n",
       "    <tr>\n",
       "      <td>min</td>\n",
       "      <td>4.1</td>\n",
       "      <td>24.0</td>\n",
       "    </tr>\n",
       "    <tr>\n",
       "      <td>max</td>\n",
       "      <td>9.0</td>\n",
       "      <td>100.0</td>\n",
       "    </tr>\n",
       "  </tbody>\n",
       "</table>\n",
       "</div>"
      ],
      "text/plain": [
       "     imdb  metascore\n",
       "min   4.1       24.0\n",
       "max   9.0      100.0"
      ]
     },
     "execution_count": 85,
     "metadata": {},
     "output_type": "execute_result"
    }
   ],
   "source": [
    "movie_ratings.describe().loc[['min', 'max'], ['imdb', 'metascore']]"
   ]
  },
  {
   "cell_type": "code",
   "execution_count": 86,
   "metadata": {},
   "outputs": [],
   "source": [
    "# From the values above, you can see that the two ratings have different scales. To be \n",
    "# able to plot the two distributions on a single graph, we’ll have to bring them to the \n",
    "# same scale. Let’s normalize the imdb column to a 100-points scale.\n",
    "\n",
    "# We’ll multiply each IMDB rating by 10, and then we’ll do a quick check by looking at the \n",
    "# first 3 rows:"
   ]
  },
  {
   "cell_type": "code",
   "execution_count": 87,
   "metadata": {},
   "outputs": [
    {
     "data": {
      "text/html": [
       "<div>\n",
       "<style scoped>\n",
       "    .dataframe tbody tr th:only-of-type {\n",
       "        vertical-align: middle;\n",
       "    }\n",
       "\n",
       "    .dataframe tbody tr th {\n",
       "        vertical-align: top;\n",
       "    }\n",
       "\n",
       "    .dataframe thead th {\n",
       "        text-align: right;\n",
       "    }\n",
       "</style>\n",
       "<table border=\"1\" class=\"dataframe\">\n",
       "  <thead>\n",
       "    <tr style=\"text-align: right;\">\n",
       "      <th></th>\n",
       "      <th>movie</th>\n",
       "      <th>year</th>\n",
       "      <th>imdb</th>\n",
       "      <th>metascore</th>\n",
       "      <th>votes</th>\n",
       "      <th>n_imdb</th>\n",
       "    </tr>\n",
       "  </thead>\n",
       "  <tbody>\n",
       "    <tr>\n",
       "      <td>0</td>\n",
       "      <td>Gladiator</td>\n",
       "      <td>2000</td>\n",
       "      <td>8.5</td>\n",
       "      <td>67</td>\n",
       "      <td>1266163</td>\n",
       "      <td>85.0</td>\n",
       "    </tr>\n",
       "    <tr>\n",
       "      <td>1</td>\n",
       "      <td>Memento</td>\n",
       "      <td>2000</td>\n",
       "      <td>8.4</td>\n",
       "      <td>80</td>\n",
       "      <td>1065952</td>\n",
       "      <td>84.0</td>\n",
       "    </tr>\n",
       "    <tr>\n",
       "      <td>2</td>\n",
       "      <td>Snatch</td>\n",
       "      <td>2000</td>\n",
       "      <td>8.3</td>\n",
       "      <td>55</td>\n",
       "      <td>744568</td>\n",
       "      <td>83.0</td>\n",
       "    </tr>\n",
       "  </tbody>\n",
       "</table>\n",
       "</div>"
      ],
      "text/plain": [
       "       movie  year  imdb  metascore    votes  n_imdb\n",
       "0  Gladiator  2000   8.5         67  1266163    85.0\n",
       "1    Memento  2000   8.4         80  1065952    84.0\n",
       "2     Snatch  2000   8.3         55   744568    83.0"
      ]
     },
     "execution_count": 87,
     "metadata": {},
     "output_type": "execute_result"
    }
   ],
   "source": [
    "movie_ratings['n_imdb'] = movie_ratings['imdb'] * 10\n",
    "movie_ratings.head(3)"
   ]
  },
  {
   "cell_type": "code",
   "execution_count": 88,
   "metadata": {},
   "outputs": [],
   "source": [
    "# So let’s save it:\n",
    "movie_ratings.to_csv('movie_ratings.csv')"
   ]
  },
  {
   "cell_type": "code",
   "execution_count": 89,
   "metadata": {},
   "outputs": [],
   "source": [
    "# As a side note, I strongly recommend saving the scraped dataset before exiting \n",
    "# (or restarting) your notebook kernel. This way you will only have to import the dataset \n",
    "# when you resume working, and don’t have to run the scraping script again. This becomes \n",
    "# extremely useful if you scrape hundreds or thousands of web pages.\n",
    "\n",
    "# Finally, let’s plot the distributions!"
   ]
  },
  {
   "cell_type": "code",
   "execution_count": 90,
   "metadata": {},
   "outputs": [],
   "source": [
    "# Plotting and analyzing the distributions\n",
    "# In the following code cell we:\n",
    "\n",
    "# Import the matplotlib.pyplot submodule.\n",
    "# Run the Jupyter magic %matplotlib to activate Jupyter’s matplotlib mode and add inline \n",
    "    # to have our graphs displayed inside the notebook.\n",
    "# Create a figure object with 3 axes.\n",
    "# Plot the distribution of each unnormalized rating on an individual ax.\n",
    "# Plot the normalized distributions of the two ratings on the same ax.\n",
    "# Hide the top and right spines of all the three axes."
   ]
  },
  {
   "cell_type": "code",
   "execution_count": 92,
   "metadata": {},
   "outputs": [
    {
     "data": {
      "image/png": "[encoded data removed]",
      "text/plain": [
       "<Figure size 1152x288 with 3 Axes>"
      ]
     },
     "metadata": {
      "needs_background": "light"
     },
     "output_type": "display_data"
    }
   ],
   "source": [
    "import matplotlib.pyplot as plt\n",
    "\n",
    "fig, axes = plt.subplots(nrows = 1, ncols = 3, figsize = (16,4))\n",
    "ax1, ax2, ax3 = fig.axes\n",
    "\n",
    "ax1.hist(movie_ratings['imdb'], bins = 10, range = (0,10)) # bin range = 1\n",
    "ax1.set_title('IMDB rating')\n",
    "\n",
    "ax2.hist(movie_ratings['metascore'], bins = 10, range = (0,100)) # bin range = 10\n",
    "ax2.set_title('Metascore')\n",
    "\n",
    "ax3.hist(movie_ratings['n_imdb'], bins = 10, range = (0,100), histtype = 'step')\n",
    "ax3.hist(movie_ratings['metascore'], bins = 10, range = (0,100), histtype = 'step')\n",
    "\n",
    "#ax3.legend(loc = 'upper left')\n",
    "ax3.set_title('The Two Normalized Distributions')\n",
    "\n",
    "for ax in fig.axes:\n",
    "    ax.spines['top'].set_visible(False)\n",
    "    ax.spines['right'].set_visible(False)\n",
    "    \n",
    "plt.show()"
   ]
  },
  {
   "cell_type": "code",
   "execution_count": 93,
   "metadata": {},
   "outputs": [],
   "source": [
    "#Starting with the IMDB histogram, we can see that most ratings are between 6 and 8. There\n",
    "#are few movies with a rating greater than 8, and even fewer with a rating smaller than 4.\n",
    "#This indicates that both very good movies and very bad movies are rarer.\n",
    "\n",
    "#The distribution of Metascore ratings resembles a normal distribution – most ratings are \n",
    "#average, peaking at the value of approximately 50. From this peak, the frequencies \n",
    "#gradually decrease toward extreme rating values. According to this distribution, there \n",
    "#are indeed fewer very good and very bad movies, but not that few as the IMDB ratings \n",
    "#indicate.\n",
    "\n",
    "#On the comparative graph, it’s clearer that the IMDB distribution is highly skewed toward\n",
    "#the higher part of the average ratings, while the Metascore ratings seem to have a much \n",
    "#more balanced distribution.\n",
    "\n",
    "#What might be the reason for that skew in the IMDB distribution? One hypothesis is that \n",
    "#many users tend to have a binary method of assessing movies. If they like the movie, \n",
    "#they give it a 10. If they don’t like the movie, they give it a very small rating, or \n",
    "#they don’t bother to rate the movie. This an interesting problem that’s worth being \n",
    "#explored in more detail."
   ]
  },
  {
   "cell_type": "code",
   "execution_count": null,
   "metadata": {},
   "outputs": [],
   "source": []
  }
 ],
 "metadata": {
  "kernelspec": {
   "display_name": "Python 3",
   "language": "python",
   "name": "python3"
  },
  "language_info": {
   "codemirror_mode": {
    "name": "ipython",
    "version": 3
   },
   "file_extension": ".py",
   "mimetype": "text/x-python",
   "name": "python",
   "nbconvert_exporter": "python",
   "pygments_lexer": "ipython3",
   "version": "3.7.4"
  }
 },
 "nbformat": 4,
 "nbformat_minor": 4
}
