{
 "cells": [
  {
   "cell_type": "code",
   "execution_count": 1,
   "metadata": {},
   "outputs": [
    {
     "name": "stdout",
     "output_type": "stream",
     "text": [
      "\n",
      "\n",
      "\n",
      "<!DOCTYPE html>\n",
      "<html\n",
      "    xmlns:og=\"http://ogp.me/ns#\"\n",
      "    xmlns:fb=\"http://www.facebook.com/2008/fbml\">\n",
      "    <head>\n",
      "         \n",
      "        <meta charset=\"utf-8\">\n",
      "        <meta http-equiv=\"X-UA-Compatible\" content=\"IE=edge\">\n",
      "\n",
      "    <meta name=\"apple-itunes-app\" content=\"app-id=342792525, app-argument=imdb:///?src=mdot\">\n",
      "\n",
      "\n",
      "\n",
      "        <script type=\"text/javascript\">var IMDbTimer={starttime: new Date().getTime(),pt:'java'};</script>\n",
      "\n",
      "<script>\n",
      "    if (typeof uet == 'function') {\n",
      "      uet(\"bb\", \"LoadTitle\"\n"
     ]
    }
   ],
   "source": [
    "from requests import get\n",
    "url = 'http://www.imdb.com/search/title?release_date=2017&sort=num_votes,desc&page=1'\n",
    "response = get(url)\n",
    "print(response.text[:500])"
   ]
  },
  {
   "cell_type": "code",
   "execution_count": 2,
   "metadata": {},
   "outputs": [],
   "source": [
    "#print(response.text)"
   ]
  },
  {
   "cell_type": "code",
   "execution_count": 3,
   "metadata": {},
   "outputs": [],
   "source": [
    "# To parse our HTML document and extract the 50 div containers, we’ll use a Python module \n",
    "# called BeautifulSoup,"
   ]
  },
  {
   "cell_type": "code",
   "execution_count": 4,
   "metadata": {},
   "outputs": [
    {
     "data": {
      "text/plain": [
       "bs4.BeautifulSoup"
      ]
     },
     "execution_count": 4,
     "metadata": {},
     "output_type": "execute_result"
    }
   ],
   "source": [
    "from bs4 import BeautifulSoup\n",
    "html_soup = BeautifulSoup(response.text, 'html.parser')\n",
    "type(html_soup)"
   ]
  },
  {
   "cell_type": "code",
   "execution_count": 5,
   "metadata": {},
   "outputs": [],
   "source": [
    "# Before extracting the 50 div containers, we need to figure out what distinguishes them \n",
    "# from other div elements on that page. Often, the distinctive mark resides in the class \n",
    "# attribute. If you inspect the HTML lines of the containers of interest, you’ll notice \n",
    "# that the class attribute has two values: lister-item and mode-advanced. This combination\n",
    "# is unique to these div containers. We can see that’s true by doing a quick search \n",
    "# (Ctrl + F). We have 50 such containers, so we expect to see only 50 matches:"
   ]
  },
  {
   "cell_type": "code",
   "execution_count": 6,
   "metadata": {},
   "outputs": [],
   "source": [
    "# Now let’s use the find_all() method to extract all the div containers that have a class \n",
    "# attribute of lister-item mode-advanced:"
   ]
  },
  {
   "cell_type": "code",
   "execution_count": 7,
   "metadata": {},
   "outputs": [
    {
     "name": "stdout",
     "output_type": "stream",
     "text": [
      "<class 'bs4.element.ResultSet'>\n",
      "50\n"
     ]
    }
   ],
   "source": [
    "movie_containers = html_soup.find_all('div', class_ = 'lister-item mode-advanced')\n",
    "print(type(movie_containers))\n",
    "print(len(movie_containers))"
   ]
  },
  {
   "cell_type": "code",
   "execution_count": 8,
   "metadata": {},
   "outputs": [],
   "source": [
    "# find_all() returned a ResultSet object which is a list containing all the 50 divs we \n",
    "# are interested in."
   ]
  },
  {
   "cell_type": "code",
   "execution_count": 9,
   "metadata": {},
   "outputs": [],
   "source": [
    "# Now we’ll select only the first container, and extract, by turn, each item of interest:\n",
    "\n",
    "# The name of the movie.\n",
    "# The year of release.\n",
    "# The IMDB rating.\n",
    "# The Metascore.\n",
    "# The number of votes."
   ]
  },
  {
   "cell_type": "code",
   "execution_count": 10,
   "metadata": {},
   "outputs": [],
   "source": [
    "# Extracting the data for a single movie\n",
    "# We can access the first container, which contains information about a single movie, by \n",
    "# using list notation on movie_containers."
   ]
  },
  {
   "cell_type": "code",
   "execution_count": 11,
   "metadata": {},
   "outputs": [],
   "source": [
    "# As you can see, the HTML content of one container is very long. To find out the HTML \n",
    "# line specific to each data point, we’ll use DevTools once again."
   ]
  },
  {
   "cell_type": "code",
   "execution_count": 12,
   "metadata": {},
   "outputs": [],
   "source": [
    "## The name of the movie\n",
    "# We begin with the movie’s name, and locate its correspondent HTML line by using DevTools\n",
    "# You can see that the name is contained within an anchor tag (<a>). This tag is nested \n",
    "# within a header tag (<h3>). The <h3> tag is nested within a <div> tag. This <div> is the\n",
    "# third of the divs nested in the container of the first movie. We stored the content of \n",
    "# this container in the first_movie variable."
   ]
  },
  {
   "cell_type": "code",
   "execution_count": 13,
   "metadata": {},
   "outputs": [],
   "source": [
    "first_movie = html_soup.find('div', class_ = 'lister-item mode-advanced')"
   ]
  },
  {
   "cell_type": "code",
   "execution_count": 14,
   "metadata": {},
   "outputs": [],
   "source": [
    "# first_movie is a Tag object, and the various HTML tags within it are stored as its \n",
    "# attributes. We can access them just like we would access any attribute of a Python \n",
    "# object. However, using a tag name as an attribute will only select the first tag by that\n",
    "# name. If we run first_movie.div, we only get the content of the first div tag:"
   ]
  },
  {
   "cell_type": "code",
   "execution_count": 15,
   "metadata": {},
   "outputs": [
    {
     "data": {
      "text/plain": [
       "<div class=\"lister-top-right\">\n",
       "<div class=\"ribbonize\" data-caller=\"filmosearch\" data-tconst=\"tt3315342\"></div>\n",
       "</div>"
      ]
     },
     "execution_count": 15,
     "metadata": {},
     "output_type": "execute_result"
    }
   ],
   "source": [
    "first_movie.div"
   ]
  },
  {
   "cell_type": "code",
   "execution_count": 16,
   "metadata": {},
   "outputs": [
    {
     "data": {
      "text/plain": [
       "<a href=\"/title/tt3315342/\"> <img alt=\"Logan\" class=\"loadlate\" data-tconst=\"tt3315342\" height=\"98\" loadlate=\"https://m.media-amazon.com/images/M/MV5BYzc5MTU4N2EtYTkyMi00NjdhLTg3NWEtMTY4OTEyMzJhZTAzXkEyXkFqcGdeQXVyNjc1NTYyMjg@._V1_UX67_CR0,0,67,98_AL_.jpg\" src=\"https://m.media-amazon.com/images/G/01/imdb/images/nopicture/large/film-184890147._CB466725069_.png\" width=\"67\"/>\n",
       "</a>"
      ]
     },
     "execution_count": 16,
     "metadata": {},
     "output_type": "execute_result"
    }
   ],
   "source": [
    "first_movie.a"
   ]
  },
  {
   "cell_type": "code",
   "execution_count": 17,
   "metadata": {},
   "outputs": [
    {
     "data": {
      "text/plain": [
       "<h3 class=\"lister-item-header\">\n",
       "<span class=\"lister-item-index unbold text-primary\">1.</span>\n",
       "<a href=\"/title/tt3315342/\">Logan</a>\n",
       "<span class=\"lister-item-year text-muted unbold\">(2017)</span>\n",
       "</h3>"
      ]
     },
     "execution_count": 17,
     "metadata": {},
     "output_type": "execute_result"
    }
   ],
   "source": [
    "first_movie.h3"
   ]
  },
  {
   "cell_type": "code",
   "execution_count": 18,
   "metadata": {},
   "outputs": [
    {
     "data": {
      "text/plain": [
       "<a href=\"/title/tt3315342/\">Logan</a>"
      ]
     },
     "execution_count": 18,
     "metadata": {},
     "output_type": "execute_result"
    }
   ],
   "source": [
    "first_movie.h3.a"
   ]
  },
  {
   "cell_type": "code",
   "execution_count": 19,
   "metadata": {},
   "outputs": [
    {
     "data": {
      "text/plain": [
       "'Logan'"
      ]
     },
     "execution_count": 19,
     "metadata": {},
     "output_type": "execute_result"
    }
   ],
   "source": [
    "# Now it’s all just a matter of accessing the text from within that <a> tag:\n",
    "first_name = first_movie.h3.a.text\n",
    "first_name"
   ]
  },
  {
   "cell_type": "code",
   "execution_count": 20,
   "metadata": {},
   "outputs": [],
   "source": [
    "# The year of the movie’s release\n",
    "# We move on with extracting the year. This data is stored within the <span> tag below \n",
    "# the <a> that contains the name."
   ]
  },
  {
   "cell_type": "code",
   "execution_count": 21,
   "metadata": {},
   "outputs": [],
   "source": [
    "# Dot notation will only access the first span element. We’ll search by the distinctive \n",
    "# mark of the second <span>. We’ll use the find() method which is almost the same as \n",
    "# find_all(), except that it only returns the first match. In fact, find() is equivalent \n",
    "# to find_all(limit = 1). The limit argument limits the output to the first match.\n",
    "# The distinguishing mark consists of the values lister-item-year text-muted unbold \n",
    "# assigned to the class attribute. So we look for the first <span> with these values \n",
    "# within the <h3> tag:"
   ]
  },
  {
   "cell_type": "code",
   "execution_count": 22,
   "metadata": {},
   "outputs": [
    {
     "data": {
      "text/plain": [
       "<span class=\"lister-item-year text-muted unbold\">(2017)</span>"
      ]
     },
     "execution_count": 22,
     "metadata": {},
     "output_type": "execute_result"
    }
   ],
   "source": [
    "first_year = first_movie.h3.find('span', class_ = 'lister-item-year text-muted unbold')\n",
    "first_year"
   ]
  },
  {
   "cell_type": "code",
   "execution_count": 23,
   "metadata": {},
   "outputs": [
    {
     "data": {
      "text/plain": [
       "'(2017)'"
      ]
     },
     "execution_count": 23,
     "metadata": {},
     "output_type": "execute_result"
    }
   ],
   "source": [
    "# From here, we just access the text using attribute notation:\n",
    "first_year = first_year.text\n",
    "first_year"
   ]
  },
  {
   "cell_type": "code",
   "execution_count": 24,
   "metadata": {},
   "outputs": [],
   "source": [
    "# We could easily clean that output and convert it to an integer. But if you explore more \n",
    "# pages, you will notice that for some movies the year takes unpredictable values like \n",
    "# (2017)(I) or (2015)(V). It’s more efficient to do the cleaning after the scraping, when \n",
    "# we’ll know all the year values."
   ]
  },
  {
   "cell_type": "code",
   "execution_count": 25,
   "metadata": {},
   "outputs": [],
   "source": [
    "# The IMDB rating\n",
    "# We now focus on extracting the IMDB rating of the first movie.\n",
    "# There are a couple of ways to do that, but we’ll first try the easiest one. If you \n",
    "# inspect the IMDB rating using DevTools, you’ll notice that the rating is contained \n",
    "# within a <strong> tag."
   ]
  },
  {
   "cell_type": "code",
   "execution_count": 26,
   "metadata": {},
   "outputs": [
    {
     "data": {
      "text/plain": [
       "<strong>8.1</strong>"
      ]
     },
     "execution_count": 26,
     "metadata": {},
     "output_type": "execute_result"
    }
   ],
   "source": [
    "first_movie.strong"
   ]
  },
  {
   "cell_type": "code",
   "execution_count": 27,
   "metadata": {},
   "outputs": [
    {
     "data": {
      "text/plain": [
       "8.1"
      ]
     },
     "execution_count": 27,
     "metadata": {},
     "output_type": "execute_result"
    }
   ],
   "source": [
    "# Great! We’ll access the text, convert it to the float type, and assign it to the \n",
    "# variable first_imdb:\n",
    "first_imdb = float(first_movie.strong.text)\n",
    "first_imdb"
   ]
  },
  {
   "cell_type": "code",
   "execution_count": 28,
   "metadata": {},
   "outputs": [],
   "source": [
    "# The Metascore\n",
    "# If we inspect the Metascore using DevTools, we’ll notice that we can find it within a \n",
    "# span tag."
   ]
  },
  {
   "cell_type": "code",
   "execution_count": 29,
   "metadata": {},
   "outputs": [],
   "source": [
    "# Attribute notation clearly isn’t a solution. There are many <span> tags before that. \n",
    "# You can see one right above the <strong> tag. We’d better use the distinctive values of \n",
    "# the class attribute (metascore favorable)."
   ]
  },
  {
   "cell_type": "code",
   "execution_count": 30,
   "metadata": {},
   "outputs": [
    {
     "name": "stdout",
     "output_type": "stream",
     "text": [
      "77\n"
     ]
    }
   ],
   "source": [
    "first_mscore = first_movie.find('span', class_ = 'metascore favorable')\n",
    "first_mscore = int(first_mscore.text)\n",
    "print(first_mscore)"
   ]
  },
  {
   "cell_type": "code",
   "execution_count": 31,
   "metadata": {},
   "outputs": [],
   "source": [
    "# The favorable value indicates a high Metascore and sets the rating’s background color to\n",
    "# green. The other two possible values are unfavorable and mixed. What is specific to all \n",
    "# Metascore ratings though is only the metascore value. This is the one we are going to \n",
    "# use when we’ll write the script for the entire page."
   ]
  },
  {
   "cell_type": "code",
   "execution_count": 32,
   "metadata": {},
   "outputs": [],
   "source": [
    "# The favorable value indicates a high Metascore and sets the rating’s background color to\n",
    "# green. The other two possible values are unfavorable and mixed. What is specific to all \n",
    "# Metascore ratings though is only the metascore value. This is the one we are going to \n",
    "# use when we’ll write the script for the entire page."
   ]
  },
  {
   "cell_type": "code",
   "execution_count": 33,
   "metadata": {},
   "outputs": [],
   "source": [
    "# The name attribute is different from the class attribute. Using BeautifulSoup we can \n",
    "# access elements by any attribute. The find() and find_all() functions have a parameter \n",
    "# named attrs. To this we can pass in the attributes and values we are searching for as a \n",
    "# dictionary:"
   ]
  },
  {
   "cell_type": "code",
   "execution_count": 34,
   "metadata": {},
   "outputs": [
    {
     "data": {
      "text/plain": [
       "<span data-value=\"600256\" name=\"nv\">600,256</span>"
      ]
     },
     "execution_count": 34,
     "metadata": {},
     "output_type": "execute_result"
    }
   ],
   "source": [
    "first_votes = first_movie.find('span', attrs = {'name':'nv'})\n",
    "first_votes"
   ]
  },
  {
   "cell_type": "code",
   "execution_count": 35,
   "metadata": {},
   "outputs": [],
   "source": [
    "# We could use .text notation to access the <span> tag’s content. It would be better \n",
    "# though if we accessed the value of the data-value attribute. This way we can convert the \n",
    "# extracted datapoint to an int without having to strip a comma. You can treat a Tag \n",
    "# object just like a dictionary. The HTML attributes are the dictionary’s keys. The values\n",
    "# of the HTML attributes are the values of the dictionary’s keys. This is how we can \n",
    "# access the value of the data-value attribute:"
   ]
  },
  {
   "cell_type": "code",
   "execution_count": 36,
   "metadata": {},
   "outputs": [
    {
     "data": {
      "text/plain": [
       "'600256'"
      ]
     },
     "execution_count": 36,
     "metadata": {},
     "output_type": "execute_result"
    }
   ],
   "source": [
    "first_votes['data-value']"
   ]
  },
  {
   "cell_type": "code",
   "execution_count": 37,
   "metadata": {},
   "outputs": [],
   "source": [
    "# Let’s convert that value to an integer, and assign it to first_votes:\n",
    "first_votes = int(first_votes['data-value'])"
   ]
  },
  {
   "cell_type": "code",
   "execution_count": 38,
   "metadata": {},
   "outputs": [],
   "source": [
    "# The script for a single page\n",
    "# Before piecing together what we’ve done so far, we have to make sure that we’ll extract \n",
    "# the data only from the containers that have a Metascore."
   ]
  },
  {
   "cell_type": "code",
   "execution_count": 39,
   "metadata": {},
   "outputs": [],
   "source": [
    "# Before piecing together what we’ve done so far, we have to make sure that we’ll \n",
    "# extract the data only from the containers that have a Metascore. We need to \n",
    "# add a condition to skip movies without a Metascore."
   ]
  },
  {
   "cell_type": "code",
   "execution_count": 40,
   "metadata": {},
   "outputs": [],
   "source": [
    "# Using DevTools again, we see that the Metascore section is contained within a <div> tag.\n",
    "# The class attribute has two values: inline-block and ratings-metascore. The distinctive \n",
    "# one is clearly ratings-metascore."
   ]
  },
  {
   "cell_type": "code",
   "execution_count": 41,
   "metadata": {},
   "outputs": [],
   "source": [
    "# We can use find() to search each movie container for a div having that distinct mark.\n",
    "# When find() doesn’t find anything, it returns a None object. We can use this result in \n",
    "# an if statement to control whether a movie is scraped."
   ]
  },
  {
   "cell_type": "code",
   "execution_count": 42,
   "metadata": {},
   "outputs": [],
   "source": [
    "# Let’s look on the web page to search for a movie container that doesn’t have a Metascore\n",
    "# , and see what find() returns."
   ]
  },
  {
   "cell_type": "code",
   "execution_count": 43,
   "metadata": {},
   "outputs": [
    {
     "data": {
      "text/plain": [
       "<div class=\"inline-block ratings-metascore\">\n",
       "<span class=\"metascore favorable\">84        </span>\n",
       "        Metascore\n",
       "            </div>"
      ]
     },
     "execution_count": 43,
     "metadata": {},
     "output_type": "execute_result"
    }
   ],
   "source": [
    "eighth_movie_mscore = movie_containers[7].find('div', class_ = 'ratings-metascore')\n",
    "eighth_movie_mscore"
   ]
  },
  {
   "cell_type": "code",
   "execution_count": 44,
   "metadata": {},
   "outputs": [],
   "source": [
    "# let’s put together the code above, and compress it as much as possible, but only \n",
    "# insofar as it’s still easily readable. In the next code block we:"
   ]
  },
  {
   "cell_type": "code",
   "execution_count": 45,
   "metadata": {},
   "outputs": [],
   "source": [
    "# Lists to store the scraped data in\n",
    "names = []\n",
    "years = []\n",
    "imdb_ratings = []\n",
    "metascores = []\n",
    "votes = []\n",
    "# Extract data from individual movie container\n",
    "for container in movie_containers:\n",
    "# If the movie has Metascore, then extract:\n",
    "    if container.find('div', class_ = 'ratings-metascore') is not None:\n",
    "        # The name\n",
    "        name = container.h3.a.text\n",
    "        names.append(name)\n",
    "        # The year\n",
    "        year = container.h3.find('span', class_ = 'lister-item-year').text\n",
    "        years.append(year)\n",
    "        # The IMDB rating\n",
    "        imdb = float(container.strong.text)\n",
    "        imdb_ratings.append(imdb)\n",
    "        # The Metascore\n",
    "        m_score = container.find('span', class_ = 'metascore').text\n",
    "        metascores.append(int(m_score))\n",
    "        # The number of votes\n",
    "        vote = container.find('span', attrs = {'name':'nv'})['data-value']\n",
    "        votes.append(int(vote))"
   ]
  },
  {
   "cell_type": "code",
   "execution_count": 46,
   "metadata": {},
   "outputs": [],
   "source": [
    "# Let’s check the data collected so far. Pandas makes it easy for us to see whether we’ve \n",
    "# scraped our data successfully."
   ]
  },
  {
   "cell_type": "code",
   "execution_count": 47,
   "metadata": {},
   "outputs": [
    {
     "name": "stdout",
     "output_type": "stream",
     "text": [
      "<class 'pandas.core.frame.DataFrame'>\n",
      "RangeIndex: 43 entries, 0 to 42\n",
      "Data columns (total 5 columns):\n",
      "movie        43 non-null object\n",
      "year         43 non-null object\n",
      "imdb         43 non-null float64\n",
      "metascore    43 non-null int64\n",
      "votes        43 non-null int64\n",
      "dtypes: float64(1), int64(2), object(2)\n",
      "memory usage: 1.8+ KB\n",
      "None\n"
     ]
    },
    {
     "data": {
      "text/html": [
       "<div>\n",
       "<style scoped>\n",
       "    .dataframe tbody tr th:only-of-type {\n",
       "        vertical-align: middle;\n",
       "    }\n",
       "\n",
       "    .dataframe tbody tr th {\n",
       "        vertical-align: top;\n",
       "    }\n",
       "\n",
       "    .dataframe thead th {\n",
       "        text-align: right;\n",
       "    }\n",
       "</style>\n",
       "<table border=\"1\" class=\"dataframe\">\n",
       "  <thead>\n",
       "    <tr style=\"text-align: right;\">\n",
       "      <th></th>\n",
       "      <th>movie</th>\n",
       "      <th>year</th>\n",
       "      <th>imdb</th>\n",
       "      <th>metascore</th>\n",
       "      <th>votes</th>\n",
       "    </tr>\n",
       "  </thead>\n",
       "  <tbody>\n",
       "    <tr>\n",
       "      <td>0</td>\n",
       "      <td>Logan</td>\n",
       "      <td>(2017)</td>\n",
       "      <td>8.1</td>\n",
       "      <td>77</td>\n",
       "      <td>600256</td>\n",
       "    </tr>\n",
       "    <tr>\n",
       "      <td>1</td>\n",
       "      <td>Thor: Ragnarok</td>\n",
       "      <td>(2017)</td>\n",
       "      <td>7.9</td>\n",
       "      <td>74</td>\n",
       "      <td>534045</td>\n",
       "    </tr>\n",
       "    <tr>\n",
       "      <td>2</td>\n",
       "      <td>Star Wars: Episode VIII - The Last Jedi</td>\n",
       "      <td>(2017)</td>\n",
       "      <td>7.0</td>\n",
       "      <td>85</td>\n",
       "      <td>524995</td>\n",
       "    </tr>\n",
       "    <tr>\n",
       "      <td>3</td>\n",
       "      <td>Guardians of the Galaxy Vol. 2</td>\n",
       "      <td>(2017)</td>\n",
       "      <td>7.6</td>\n",
       "      <td>67</td>\n",
       "      <td>524630</td>\n",
       "    </tr>\n",
       "    <tr>\n",
       "      <td>4</td>\n",
       "      <td>Wonder Woman</td>\n",
       "      <td>(2017)</td>\n",
       "      <td>7.4</td>\n",
       "      <td>76</td>\n",
       "      <td>517446</td>\n",
       "    </tr>\n",
       "    <tr>\n",
       "      <td>5</td>\n",
       "      <td>Dunkirk</td>\n",
       "      <td>(2017)</td>\n",
       "      <td>7.9</td>\n",
       "      <td>94</td>\n",
       "      <td>501688</td>\n",
       "    </tr>\n",
       "    <tr>\n",
       "      <td>6</td>\n",
       "      <td>Spider-Man: Homecoming</td>\n",
       "      <td>(2017)</td>\n",
       "      <td>7.4</td>\n",
       "      <td>73</td>\n",
       "      <td>471893</td>\n",
       "    </tr>\n",
       "    <tr>\n",
       "      <td>7</td>\n",
       "      <td>Get Out</td>\n",
       "      <td>(I) (2017)</td>\n",
       "      <td>7.7</td>\n",
       "      <td>84</td>\n",
       "      <td>444233</td>\n",
       "    </tr>\n",
       "    <tr>\n",
       "      <td>8</td>\n",
       "      <td>It</td>\n",
       "      <td>(I) (2017)</td>\n",
       "      <td>7.3</td>\n",
       "      <td>69</td>\n",
       "      <td>421356</td>\n",
       "    </tr>\n",
       "    <tr>\n",
       "      <td>9</td>\n",
       "      <td>Blade Runner 2049</td>\n",
       "      <td>(2017)</td>\n",
       "      <td>8.0</td>\n",
       "      <td>81</td>\n",
       "      <td>413893</td>\n",
       "    </tr>\n",
       "    <tr>\n",
       "      <td>10</td>\n",
       "      <td>Baby Driver</td>\n",
       "      <td>(2017)</td>\n",
       "      <td>7.6</td>\n",
       "      <td>86</td>\n",
       "      <td>397709</td>\n",
       "    </tr>\n",
       "    <tr>\n",
       "      <td>11</td>\n",
       "      <td>Three Billboards Outside Ebbing, Missouri</td>\n",
       "      <td>(2017)</td>\n",
       "      <td>8.2</td>\n",
       "      <td>88</td>\n",
       "      <td>382819</td>\n",
       "    </tr>\n",
       "    <tr>\n",
       "      <td>12</td>\n",
       "      <td>Justice League</td>\n",
       "      <td>(2017)</td>\n",
       "      <td>6.4</td>\n",
       "      <td>45</td>\n",
       "      <td>354335</td>\n",
       "    </tr>\n",
       "    <tr>\n",
       "      <td>13</td>\n",
       "      <td>The Shape of Water</td>\n",
       "      <td>(2017)</td>\n",
       "      <td>7.3</td>\n",
       "      <td>87</td>\n",
       "      <td>338619</td>\n",
       "    </tr>\n",
       "    <tr>\n",
       "      <td>14</td>\n",
       "      <td>John Wick: Chapter 2</td>\n",
       "      <td>(2017)</td>\n",
       "      <td>7.5</td>\n",
       "      <td>75</td>\n",
       "      <td>332175</td>\n",
       "    </tr>\n",
       "    <tr>\n",
       "      <td>15</td>\n",
       "      <td>Coco</td>\n",
       "      <td>(I) (2017)</td>\n",
       "      <td>8.4</td>\n",
       "      <td>81</td>\n",
       "      <td>320889</td>\n",
       "    </tr>\n",
       "    <tr>\n",
       "      <td>16</td>\n",
       "      <td>Jumanji: Welcome to the Jungle</td>\n",
       "      <td>(2017)</td>\n",
       "      <td>6.9</td>\n",
       "      <td>58</td>\n",
       "      <td>286045</td>\n",
       "    </tr>\n",
       "    <tr>\n",
       "      <td>17</td>\n",
       "      <td>Beauty and the Beast</td>\n",
       "      <td>(2017)</td>\n",
       "      <td>7.1</td>\n",
       "      <td>65</td>\n",
       "      <td>253813</td>\n",
       "    </tr>\n",
       "    <tr>\n",
       "      <td>18</td>\n",
       "      <td>Kong: Skull Island</td>\n",
       "      <td>(2017)</td>\n",
       "      <td>6.6</td>\n",
       "      <td>62</td>\n",
       "      <td>252772</td>\n",
       "    </tr>\n",
       "    <tr>\n",
       "      <td>19</td>\n",
       "      <td>Kingsman: The Golden Circle</td>\n",
       "      <td>(2017)</td>\n",
       "      <td>6.7</td>\n",
       "      <td>44</td>\n",
       "      <td>249788</td>\n",
       "    </tr>\n",
       "    <tr>\n",
       "      <td>20</td>\n",
       "      <td>Pirates of the Caribbean: Dead Men Tell No Tales</td>\n",
       "      <td>(2017)</td>\n",
       "      <td>6.6</td>\n",
       "      <td>39</td>\n",
       "      <td>242896</td>\n",
       "    </tr>\n",
       "    <tr>\n",
       "      <td>21</td>\n",
       "      <td>Alien: Covenant</td>\n",
       "      <td>(2017)</td>\n",
       "      <td>6.4</td>\n",
       "      <td>65</td>\n",
       "      <td>239093</td>\n",
       "    </tr>\n",
       "    <tr>\n",
       "      <td>22</td>\n",
       "      <td>The Greatest Showman</td>\n",
       "      <td>(2017)</td>\n",
       "      <td>7.6</td>\n",
       "      <td>48</td>\n",
       "      <td>214407</td>\n",
       "    </tr>\n",
       "    <tr>\n",
       "      <td>23</td>\n",
       "      <td>War for the Planet of the Apes</td>\n",
       "      <td>(2017)</td>\n",
       "      <td>7.4</td>\n",
       "      <td>82</td>\n",
       "      <td>213415</td>\n",
       "    </tr>\n",
       "    <tr>\n",
       "      <td>24</td>\n",
       "      <td>Lady Bird</td>\n",
       "      <td>(2017)</td>\n",
       "      <td>7.4</td>\n",
       "      <td>94</td>\n",
       "      <td>203640</td>\n",
       "    </tr>\n",
       "    <tr>\n",
       "      <td>25</td>\n",
       "      <td>Life</td>\n",
       "      <td>(I) (2017)</td>\n",
       "      <td>6.6</td>\n",
       "      <td>54</td>\n",
       "      <td>192722</td>\n",
       "    </tr>\n",
       "    <tr>\n",
       "      <td>26</td>\n",
       "      <td>Murder on the Orient Express</td>\n",
       "      <td>(2017)</td>\n",
       "      <td>6.5</td>\n",
       "      <td>52</td>\n",
       "      <td>192440</td>\n",
       "    </tr>\n",
       "    <tr>\n",
       "      <td>27</td>\n",
       "      <td>The Fate of the Furious</td>\n",
       "      <td>(2017)</td>\n",
       "      <td>6.7</td>\n",
       "      <td>56</td>\n",
       "      <td>191886</td>\n",
       "    </tr>\n",
       "    <tr>\n",
       "      <td>28</td>\n",
       "      <td>Ghost in the Shell</td>\n",
       "      <td>(2017)</td>\n",
       "      <td>6.3</td>\n",
       "      <td>52</td>\n",
       "      <td>186112</td>\n",
       "    </tr>\n",
       "    <tr>\n",
       "      <td>29</td>\n",
       "      <td>Wind River</td>\n",
       "      <td>(2017)</td>\n",
       "      <td>7.7</td>\n",
       "      <td>73</td>\n",
       "      <td>184263</td>\n",
       "    </tr>\n",
       "    <tr>\n",
       "      <td>30</td>\n",
       "      <td>King Arthur: Legend of the Sword</td>\n",
       "      <td>(2017)</td>\n",
       "      <td>6.7</td>\n",
       "      <td>41</td>\n",
       "      <td>179055</td>\n",
       "    </tr>\n",
       "    <tr>\n",
       "      <td>31</td>\n",
       "      <td>Call Me by Your Name</td>\n",
       "      <td>(2017)</td>\n",
       "      <td>7.9</td>\n",
       "      <td>93</td>\n",
       "      <td>177728</td>\n",
       "    </tr>\n",
       "    <tr>\n",
       "      <td>32</td>\n",
       "      <td>Mother!</td>\n",
       "      <td>(2017)</td>\n",
       "      <td>6.6</td>\n",
       "      <td>75</td>\n",
       "      <td>173549</td>\n",
       "    </tr>\n",
       "    <tr>\n",
       "      <td>33</td>\n",
       "      <td>The Hitman's Bodyguard</td>\n",
       "      <td>(2017)</td>\n",
       "      <td>6.9</td>\n",
       "      <td>47</td>\n",
       "      <td>173448</td>\n",
       "    </tr>\n",
       "    <tr>\n",
       "      <td>34</td>\n",
       "      <td>The Mummy</td>\n",
       "      <td>(2017)</td>\n",
       "      <td>5.4</td>\n",
       "      <td>34</td>\n",
       "      <td>163713</td>\n",
       "    </tr>\n",
       "    <tr>\n",
       "      <td>35</td>\n",
       "      <td>Atomic Blonde</td>\n",
       "      <td>(2017)</td>\n",
       "      <td>6.7</td>\n",
       "      <td>63</td>\n",
       "      <td>162717</td>\n",
       "    </tr>\n",
       "    <tr>\n",
       "      <td>36</td>\n",
       "      <td>I, Tonya</td>\n",
       "      <td>(2017)</td>\n",
       "      <td>7.5</td>\n",
       "      <td>77</td>\n",
       "      <td>159726</td>\n",
       "    </tr>\n",
       "    <tr>\n",
       "      <td>37</td>\n",
       "      <td>Bright</td>\n",
       "      <td>(I) (2017)</td>\n",
       "      <td>6.3</td>\n",
       "      <td>29</td>\n",
       "      <td>157538</td>\n",
       "    </tr>\n",
       "    <tr>\n",
       "      <td>38</td>\n",
       "      <td>Darkest Hour</td>\n",
       "      <td>(2017)</td>\n",
       "      <td>7.4</td>\n",
       "      <td>75</td>\n",
       "      <td>152712</td>\n",
       "    </tr>\n",
       "    <tr>\n",
       "      <td>39</td>\n",
       "      <td>Valerian and the City of a Thousand Planets</td>\n",
       "      <td>(2017)</td>\n",
       "      <td>6.5</td>\n",
       "      <td>51</td>\n",
       "      <td>151318</td>\n",
       "    </tr>\n",
       "    <tr>\n",
       "      <td>40</td>\n",
       "      <td>Baywatch</td>\n",
       "      <td>(2017)</td>\n",
       "      <td>5.5</td>\n",
       "      <td>37</td>\n",
       "      <td>149276</td>\n",
       "    </tr>\n",
       "    <tr>\n",
       "      <td>41</td>\n",
       "      <td>American Made</td>\n",
       "      <td>(2017)</td>\n",
       "      <td>7.1</td>\n",
       "      <td>65</td>\n",
       "      <td>145166</td>\n",
       "    </tr>\n",
       "    <tr>\n",
       "      <td>42</td>\n",
       "      <td>Transformers: The Last Knight</td>\n",
       "      <td>(2017)</td>\n",
       "      <td>5.2</td>\n",
       "      <td>27</td>\n",
       "      <td>127107</td>\n",
       "    </tr>\n",
       "  </tbody>\n",
       "</table>\n",
       "</div>"
      ],
      "text/plain": [
       "                                               movie        year  imdb  \\\n",
       "0                                              Logan      (2017)   8.1   \n",
       "1                                     Thor: Ragnarok      (2017)   7.9   \n",
       "2            Star Wars: Episode VIII - The Last Jedi      (2017)   7.0   \n",
       "3                     Guardians of the Galaxy Vol. 2      (2017)   7.6   \n",
       "4                                       Wonder Woman      (2017)   7.4   \n",
       "5                                            Dunkirk      (2017)   7.9   \n",
       "6                             Spider-Man: Homecoming      (2017)   7.4   \n",
       "7                                            Get Out  (I) (2017)   7.7   \n",
       "8                                                 It  (I) (2017)   7.3   \n",
       "9                                  Blade Runner 2049      (2017)   8.0   \n",
       "10                                       Baby Driver      (2017)   7.6   \n",
       "11         Three Billboards Outside Ebbing, Missouri      (2017)   8.2   \n",
       "12                                    Justice League      (2017)   6.4   \n",
       "13                                The Shape of Water      (2017)   7.3   \n",
       "14                              John Wick: Chapter 2      (2017)   7.5   \n",
       "15                                              Coco  (I) (2017)   8.4   \n",
       "16                    Jumanji: Welcome to the Jungle      (2017)   6.9   \n",
       "17                              Beauty and the Beast      (2017)   7.1   \n",
       "18                                Kong: Skull Island      (2017)   6.6   \n",
       "19                       Kingsman: The Golden Circle      (2017)   6.7   \n",
       "20  Pirates of the Caribbean: Dead Men Tell No Tales      (2017)   6.6   \n",
       "21                                   Alien: Covenant      (2017)   6.4   \n",
       "22                              The Greatest Showman      (2017)   7.6   \n",
       "23                    War for the Planet of the Apes      (2017)   7.4   \n",
       "24                                         Lady Bird      (2017)   7.4   \n",
       "25                                              Life  (I) (2017)   6.6   \n",
       "26                      Murder on the Orient Express      (2017)   6.5   \n",
       "27                           The Fate of the Furious      (2017)   6.7   \n",
       "28                                Ghost in the Shell      (2017)   6.3   \n",
       "29                                        Wind River      (2017)   7.7   \n",
       "30                  King Arthur: Legend of the Sword      (2017)   6.7   \n",
       "31                              Call Me by Your Name      (2017)   7.9   \n",
       "32                                           Mother!      (2017)   6.6   \n",
       "33                            The Hitman's Bodyguard      (2017)   6.9   \n",
       "34                                         The Mummy      (2017)   5.4   \n",
       "35                                     Atomic Blonde      (2017)   6.7   \n",
       "36                                          I, Tonya      (2017)   7.5   \n",
       "37                                            Bright  (I) (2017)   6.3   \n",
       "38                                      Darkest Hour      (2017)   7.4   \n",
       "39       Valerian and the City of a Thousand Planets      (2017)   6.5   \n",
       "40                                          Baywatch      (2017)   5.5   \n",
       "41                                     American Made      (2017)   7.1   \n",
       "42                     Transformers: The Last Knight      (2017)   5.2   \n",
       "\n",
       "    metascore   votes  \n",
       "0          77  600256  \n",
       "1          74  534045  \n",
       "2          85  524995  \n",
       "3          67  524630  \n",
       "4          76  517446  \n",
       "5          94  501688  \n",
       "6          73  471893  \n",
       "7          84  444233  \n",
       "8          69  421356  \n",
       "9          81  413893  \n",
       "10         86  397709  \n",
       "11         88  382819  \n",
       "12         45  354335  \n",
       "13         87  338619  \n",
       "14         75  332175  \n",
       "15         81  320889  \n",
       "16         58  286045  \n",
       "17         65  253813  \n",
       "18         62  252772  \n",
       "19         44  249788  \n",
       "20         39  242896  \n",
       "21         65  239093  \n",
       "22         48  214407  \n",
       "23         82  213415  \n",
       "24         94  203640  \n",
       "25         54  192722  \n",
       "26         52  192440  \n",
       "27         56  191886  \n",
       "28         52  186112  \n",
       "29         73  184263  \n",
       "30         41  179055  \n",
       "31         93  177728  \n",
       "32         75  173549  \n",
       "33         47  173448  \n",
       "34         34  163713  \n",
       "35         63  162717  \n",
       "36         77  159726  \n",
       "37         29  157538  \n",
       "38         75  152712  \n",
       "39         51  151318  \n",
       "40         37  149276  \n",
       "41         65  145166  \n",
       "42         27  127107  "
      ]
     },
     "execution_count": 47,
     "metadata": {},
     "output_type": "execute_result"
    }
   ],
   "source": [
    "import pandas as pd\n",
    "\n",
    "test_df = pd.DataFrame({'movie': names,\n",
    "'year': years,\n",
    "'imdb': imdb_ratings,\n",
    "'metascore': metascores,\n",
    "'votes': votes\n",
    "})\n",
    "\n",
    "print(test_df.info())\n",
    "test_df"
   ]
  },
  {
   "cell_type": "code",
   "execution_count": 48,
   "metadata": {},
   "outputs": [],
   "source": [
    "# As a side note, if you run the code from a country where English is not the main \n",
    "# language, it’s very likely that you’ll get some of the movie names translated into the \n",
    "# main language of that country.\n",
    "\n",
    "# Most likely, this happens because the server infers your location from your IP address. \n",
    "# Even if you are located in a country where English is the main language, you may still \n",
    "# get translated content. This may happen if you’re using a VPN while you’re making the \n",
    "# GET requests.\n",
    "\n",
    "# If you run into this issue, pass the following values to the headers parameter of the \n",
    "# get() function:\n",
    "headers = {\"Accept-Language\": \"en-US, en;q=0.5\"}"
   ]
  },
  {
   "cell_type": "code",
   "execution_count": 49,
   "metadata": {},
   "outputs": [],
   "source": [
    "## The script for multiple pages"
   ]
  },
  {
   "cell_type": "code",
   "execution_count": 50,
   "metadata": {},
   "outputs": [],
   "source": [
    "# We’ll scrape the first 4 pages of each year in the interval 2000-2017. 4 pages for each \n",
    "# of the 18 years makes for a total of 72 pages. Each page has 50 movies, so we’ll scrape \n",
    "# data for 3600 movies at most. But not all the movies have a Metascore, so the number \n",
    "# will be lower than that. Even so, we are still very likely to get data for over 2000 \n",
    "# movies."
   ]
  },
  {
   "cell_type": "code",
   "execution_count": 51,
   "metadata": {},
   "outputs": [],
   "source": [
    "# As we are making the requests, we’ll only have to vary the values of only two parameters\n",
    "# of the URL: the release_date parameter, and page. Let’s prepare the values we’ll need \n",
    "# for the forthcoming loop. In the next code cell we will:\n",
    "\n",
    "# Create a list called pages, and populate it with the strings corresponding to the first \n",
    "# 4 pages.\n",
    "\n",
    "# Create a list called years_url and populate it with the strings corresponding to the \n",
    "# years 2000-2017."
   ]
  },
  {
   "cell_type": "code",
   "execution_count": 52,
   "metadata": {},
   "outputs": [],
   "source": [
    "pages = [str(i) for i in range(1,5)]\n",
    "years_url = [str(i) for i in range(2000,2018)]"
   ]
  },
  {
   "cell_type": "code",
   "execution_count": 53,
   "metadata": {},
   "outputs": [],
   "source": [
    "## Controlling the crawl-rate"
   ]
  },
  {
   "cell_type": "code",
   "execution_count": 54,
   "metadata": {},
   "outputs": [],
   "source": [
    "# Controlling the rate of crawling is beneficial for us, and for the website we are \n",
    "# scraping. If we avoid hammering the server with tens of requests per second, then we are\n",
    "# much less likely to get our IP address banned. We also avoid disrupting the activity of \n",
    "# the website we scrape by allowing the server to respond to other users’ requests too."
   ]
  },
  {
   "cell_type": "code",
   "execution_count": 55,
   "metadata": {},
   "outputs": [],
   "source": [
    "# We’ll control the loop’s rate by using the sleep() function from Python’s time module. \n",
    "# sleep() will pause the execution of the loop for a specified amount of seconds.\n",
    "\n",
    "# To mimic human behavior, we’ll vary the amount of waiting time between requests by using\n",
    "# the randint() function from the Python’s random module. randint() randomly generates \n",
    "# integers within a specified interval."
   ]
  },
  {
   "cell_type": "code",
   "execution_count": 56,
   "metadata": {},
   "outputs": [
    {
     "name": "stdout",
     "output_type": "stream",
     "text": [
      "Jesus is Lord\n",
      "Jesus is Lord\n",
      "Jesus is Lord\n"
     ]
    }
   ],
   "source": [
    "# e.g\n",
    "from time import sleep\n",
    "from random import randint\n",
    "\n",
    "for _ in range(1,4):\n",
    "    print('Jesus is Lord')\n",
    "    sleep(randint(1,5))"
   ]
  },
  {
   "cell_type": "code",
   "execution_count": 57,
   "metadata": {},
   "outputs": [],
   "source": [
    "## Monitoring the loop as it’s still going"
   ]
  },
  {
   "cell_type": "code",
   "execution_count": 58,
   "metadata": {},
   "outputs": [],
   "source": [
    "# Given that we’re scraping 72 pages, it would be nice if we could find a way to monitor \n",
    "# the scraping process as it’s still going. This feature is definitely optional, but it \n",
    "# can be very helpful in the testing and debugging process. Also, the greater the number \n",
    "# of pages, the more helpful the monitoring becomes. If you are going to scrape hundreds \n",
    "# or thousands of web pages in a single code run, I would say that this feature becomes a \n",
    "# must."
   ]
  },
  {
   "cell_type": "code",
   "execution_count": 59,
   "metadata": {},
   "outputs": [],
   "source": [
    "# For our script, we’ll make use of this feature, and monitor the following parameters:\n",
    "\n",
    "# The frequency (speed) of requests, so we make sure our program is not overloading the \n",
    "# server.\n",
    "\n",
    "# The number of requests, so we can halt the loop in case the number of expected requests \n",
    "# is exceeded.\n",
    "\n",
    "# The status code of our requests, so we make sure the server is sending back the proper \n",
    "# responses."
   ]
  },
  {
   "cell_type": "code",
   "execution_count": 60,
   "metadata": {},
   "outputs": [],
   "source": [
    "# To get a frequency value we’ll divide the number of requests by the time elapsed since \n",
    "# the first request. This is similar to computing the speed of a car – we divide the \n",
    "# distance by the time taken to cover that distance. Let’s experiment with this monitoring\n",
    "# technique at a small scale first. In the following code cell we will:"
   ]
  },
  {
   "cell_type": "code",
   "execution_count": 61,
   "metadata": {},
   "outputs": [],
   "source": [
    "# Set a starting time using the time() function from the time module, and assign the \n",
    "# value to start_time.\n",
    "\n",
    "# Assign 0 to the variable requests which we’ll use to count the number of requests.\n",
    "# Start a loop, and then with each iteration:\n",
    "    # Simulate a request.\n",
    "    # Increment the number of requests by 1.\n",
    "    # Pause the loop for a time interval between 8 and 15 seconds.\n",
    "    # Calculate the elapsed time since the first request, and assign the value to \n",
    "    # elapsed_time.\n",
    "    # Print the number of requests and the frequency."
   ]
  },
  {
   "cell_type": "code",
   "execution_count": 66,
   "metadata": {},
   "outputs": [
    {
     "name": "stdout",
     "output_type": "stream",
     "text": [
      "Request: 1; Frequency: 0.9763882028077158 requests/s\n",
      "Request: 2; Frequency: 0.6601893365743332 requests/s\n",
      "Request: 3; Frequency: 0.5958592629581828 requests/s\n",
      "Request: 4; Frequency: 0.5681640612631259 requests/s\n",
      "Request: 5; Frequency: 0.4977322900367531 requests/s\n"
     ]
    }
   ],
   "source": [
    "from time import time\n",
    "\n",
    "start_time = time()\n",
    "requests = 0\n",
    "for _ in range(5):\n",
    "# A request would go here\n",
    "    requests += 1\n",
    "    sleep(randint(1,3))\n",
    "    elapsed_time = time() - start_time\n",
    "    print('Request: {}; Frequency: {} requests/s'.format(requests, requests/elapsed_time))"
   ]
  },
  {
   "cell_type": "code",
   "execution_count": 67,
   "metadata": {},
   "outputs": [],
   "source": [
    "# Since we’re going to make 72 requests, our work will look a bit untidy as the output \n",
    "# accumulates. To avoid that, we’ll clear the output after each iteration, and replace it \n",
    "# with information about the most recent request. To do that we’ll use the clear_output()\n",
    "# function from the IPython’s core.display module. We’ll set the wait parameter of \n",
    "# clear_output() to True to wait with replacing the current output until some new output \n",
    "# appears."
   ]
  },
  {
   "cell_type": "code",
   "execution_count": 69,
   "metadata": {},
   "outputs": [
    {
     "name": "stdout",
     "output_type": "stream",
     "text": [
      "Request: 1; Frequency: 0.9982312072914624 requests/s\n",
      "Request: 2; Frequency: 0.4996610199374599 requests/s\n",
      "Request: 3; Frequency: 0.5990871225315276 requests/s\n",
      "Request: 4; Frequency: 0.5706816348394799 requests/s\n",
      "Request: 5; Frequency: 0.49931130034095467 requests/s\n"
     ]
    }
   ],
   "source": [
    "from IPython.core.display import clear_output\n",
    "\n",
    "start_time = time()\n",
    "requests = 0\n",
    "for _ in range(5):\n",
    "# A request would go here\n",
    "    requests += 1\n",
    "    sleep(randint(1,3))\n",
    "    current_time = time()\n",
    "    elapsed_time = current_time - start_time\n",
    "    print('Request: {}; Frequency: {} requests/s'.format(requests, requests/elapsed_time))\n",
    "clear_output(wait = True)"
   ]
  },
  {
   "cell_type": "code",
   "execution_count": 70,
   "metadata": {},
   "outputs": [],
   "source": [
    "# To monitor the status code we’ll set the program to warn us if there’s something off. \n",
    "# A successful request is indicated by a status code of 200. We’ll use the warn() function\n",
    "# from the warnings module to throw a warning if the status code is not 200."
   ]
  },
  {
   "cell_type": "code",
   "execution_count": 72,
   "metadata": {},
   "outputs": [
    {
     "name": "stderr",
     "output_type": "stream",
     "text": [
      "/opt/anaconda3/lib/python3.7/site-packages/ipykernel_launcher.py:2: UserWarning: Warning Simulation\n",
      "  \n"
     ]
    }
   ],
   "source": [
    "from warnings import warn\n",
    "warn(\"Warning Simulation\")"
   ]
  },
  {
   "cell_type": "code",
   "execution_count": 73,
   "metadata": {},
   "outputs": [],
   "source": [
    "# We chose a warning over breaking the loop because there’s a good possibility we’ll \n",
    "# scrape enough data, even if some of the requests fail. We will only break the loop if \n",
    "# the number of requests is greater than expected."
   ]
  },
  {
   "cell_type": "code",
   "execution_count": 74,
   "metadata": {},
   "outputs": [],
   "source": [
    "### Piecing everything together"
   ]
  },
  {
   "cell_type": "code",
   "execution_count": null,
   "metadata": {},
   "outputs": [],
   "source": []
  }
 ],
 "metadata": {
  "kernelspec": {
   "display_name": "Python 3",
   "language": "python",
   "name": "python3"
  },
  "language_info": {
   "codemirror_mode": {
    "name": "ipython",
    "version": 3
   },
   "file_extension": ".py",
   "mimetype": "text/x-python",
   "name": "python",
   "nbconvert_exporter": "python",
   "pygments_lexer": "ipython3",
   "version": "3.7.4"
  }
 },
 "nbformat": 4,
 "nbformat_minor": 4
}
